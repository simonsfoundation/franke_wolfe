{
 "cells": [
  {
   "cell_type": "markdown",
   "metadata": {},
   "source": [
    "# Find a best line separating two sets of points.\n",
    "\n",
    "First some facts about the distance between a point and a line."
   ]
  },
  {
   "cell_type": "code",
   "execution_count": 1,
   "metadata": {
    "collapsed": true
   },
   "outputs": [],
   "source": [
    "import sys\n",
    "if \"..\" not in sys.path:\n",
    "    sys.path.append(\"..\")\n",
    "    \n",
    "import sympy as s\n",
    "s.init_printing()\n",
    "\n",
    "x,y,a,b,c = s.symbols(\"x y a b c\")"
   ]
  },
  {
   "cell_type": "markdown",
   "metadata": {},
   "source": [
    "The squared distance between a line"
   ]
  },
  {
   "cell_type": "code",
   "execution_count": null,
   "metadata": {
    "collapsed": false
   },
   "outputs": [],
   "source": [
    "s.Eq(a*x + b*y + c, 0)"
   ]
  },
  {
   "cell_type": "markdown",
   "metadata": {},
   "source": [
    "and the point $(x,y)$ is"
   ]
  },
  {
   "cell_type": "code",
   "execution_count": null,
   "metadata": {
    "collapsed": false
   },
   "outputs": [],
   "source": [
    "distance = (a*x + b*y + c)**2/(a**2 + b**2)\n",
    "distance"
   ]
  },
  {
   "cell_type": "markdown",
   "metadata": {},
   "source": [
    "We seek to find the parameters $a$, $b$ and $c$.  To use Franke-Wolfe we will need to compute\n",
    "the gradient for the distance using the partial derivatives"
   ]
  },
  {
   "cell_type": "code",
   "execution_count": null,
   "metadata": {
    "collapsed": false
   },
   "outputs": [],
   "source": [
    "s.diff(distance, a)"
   ]
  },
  {
   "cell_type": "code",
   "execution_count": null,
   "metadata": {
    "collapsed": false
   },
   "outputs": [],
   "source": [
    "s.diff(distance, b)"
   ]
  },
  {
   "cell_type": "code",
   "execution_count": null,
   "metadata": {
    "collapsed": false
   },
   "outputs": [],
   "source": [
    "s.diff(distance, c)"
   ]
  },
  {
   "cell_type": "code",
   "execution_count": null,
   "metadata": {
    "collapsed": false
   },
   "outputs": [],
   "source": [
    "a2b2inv = 1.0/(a**2 + b**2)\n",
    "axbyc = a * x + b * y + c\n",
    "da = - (2 * a * (a2b2inv ** 2)) * (axbyc ** 2) + (2 * x * a2b2inv * axbyc)\n",
    "db = - (2 * b * (a2b2inv ** 2)) * (axbyc ** 2) + (2 * y * a2b2inv * axbyc)\n",
    "dc = a2b2inv * 2 * axbyc\n",
    "dc"
   ]
  },
  {
   "cell_type": "code",
   "execution_count": 3,
   "metadata": {
    "collapsed": false
   },
   "outputs": [],
   "source": [
    "import separate\n",
    "import numpy as np\n",
    "s2 = np.sqrt(2)"
   ]
  },
  {
   "cell_type": "code",
   "execution_count": null,
   "metadata": {
    "collapsed": false
   },
   "outputs": [],
   "source": [
    "separate.line_illustration(1,-1.2,3,0,2)"
   ]
  },
  {
   "cell_type": "code",
   "execution_count": null,
   "metadata": {
    "collapsed": false
   },
   "outputs": [],
   "source": [
    "separate.line_point_distance2(1,1,-3,2,2)"
   ]
  },
  {
   "cell_type": "code",
   "execution_count": 4,
   "metadata": {
    "collapsed": false
   },
   "outputs": [
    {
     "name": "stdout",
     "output_type": "stream",
     "text": [
      "bounds [[-8, 8], [-8, 8], [-8, 8]]\n",
      "abc [-8. -8. -8.]\n"
     ]
    },
    {
     "data": {
      "application/javascript": [
       "\n",
       "// imitating ipywidgets/docs/source/examples/Custom Widget - Hello World.ipynb\n",
       "\n",
       "//require([\"widgets/js/widget\", \"widgets/js/manager\"], function(widget, manager){\n",
       "\n",
       "require.undef(\"SVGCanvas\");\n",
       "\n",
       "define(\"SVGCanvas\", [\"jupyter-js-widgets\"], function(widgets) {\n",
       "    \n",
       "    var svgEventHandlerFactory = function(that) {\n",
       "        var svgEventHandler = function(e) {\n",
       "            var target = e.target;\n",
       "            var info = {};\n",
       "            for (var attr in e) {\n",
       "                var val = e[attr];\n",
       "                var ty = (typeof val);\n",
       "                if ((ty == \"number\") ||\n",
       "                    (ty == \"string\") ||\n",
       "                    (ty == \"boolean\")) {\n",
       "                    info[attr] = val;\n",
       "                }\n",
       "            }\n",
       "            info.name = target.ipy_name;\n",
       "            var ept = SVGEventLocation(that, e);\n",
       "            info.svgX = ept.x;\n",
       "            info.svgY = ept.y;\n",
       "            var json = JSON.stringify(info);\n",
       "            that.model.set(\"event\", json);\n",
       "            that.touch();\n",
       "        };\n",
       "        return svgEventHandler;\n",
       "    };\n",
       "\n",
       "    var SVGEventLocation = function(that, e) {\n",
       "        // http://stackoverflow.com/questions/10298658/mouse-position-inside-autoscaled-svg\n",
       "        var pt = that.reference_point;\n",
       "        var svg = that.$svg[0];\n",
       "        pt.x = e.clientX;\n",
       "        pt.y = e.clientY;\n",
       "        return pt.matrixTransform(svg.getScreenCTM().inverse());\n",
       "    }\n",
       "    \n",
       "    var SVGCanvasView = widgets.DOMWidgetView.extend({\n",
       "        \n",
       "        render: function() {\n",
       "            var that = this;\n",
       "            var svg = that.svg_elt(\"svg\");\n",
       "            var eventHandler = svgEventHandlerFactory(that);\n",
       "            that.eventHandler = eventHandler;\n",
       "            that.named_elements = {};\n",
       "            svg.ipy_name = \"\";\n",
       "            that.$svg = $(svg);\n",
       "            that.reference_point = svg.createSVGPoint();\n",
       "            svg.setAttribute(\"preserveAspectRatio\", \"none\");\n",
       "            that.$el.append(that.$svg);\n",
       "            that.svg_parameters_changed();\n",
       "            that.commands_changed();\n",
       "            that.start_watch_event();\n",
       "            that.model.on(\"change:commands\", that.commands_changed, that);\n",
       "            that.model.on(\"change:viewBox\", that.svg_parameters_changed, that);\n",
       "            that.model.on(\"change:svg_width\", that.svg_parameters_changed, that);\n",
       "            that.model.on(\"change:svg_height\", that.svg_parameters_changed, that);\n",
       "            that.model.on(\"change:style\", that.svg_parameters_changed, that);\n",
       "            that.model.on(\"change:watch_event\", that.start_watch_event, that);\n",
       "            that.model.on(\"change:unwatch_event\", that.stop_watch_event, that);\n",
       "        },\n",
       "        \n",
       "        start_watch_event: function() {\n",
       "            var that = this;\n",
       "            var event_types = that.model.get(\"watch_event\");\n",
       "            if (event_types != \"\") {\n",
       "                that.$svg.on(event_types, that.eventHandler);\n",
       "                that.model.set(\"watch_event\", \"\");\n",
       "                that.touch();\n",
       "            }\n",
       "        },\n",
       "        \n",
       "        stop_watch_event: function() {\n",
       "            var that = this;\n",
       "            var event_types = that.model.get(\"unwatch_event\");\n",
       "            if (event_types != \"\") {\n",
       "                that.$svg.off(event_types);\n",
       "                that.model.set(\"watch_event\", \"\");\n",
       "                that.touch();\n",
       "            }\n",
       "        },\n",
       "        \n",
       "        commands_changed: function() {\n",
       "            var that = this;\n",
       "            var svg = that.$svg[0];\n",
       "            var commands = that.get_JSON(\"commands\")\n",
       "            for (var i=0; i<commands.length; i++) {\n",
       "                var command_dict = commands[i];\n",
       "                var indicator = command_dict[\"command\"];\n",
       "                var method = that[\"do_\"+indicator];\n",
       "                method(that, command_dict);\n",
       "            }\n",
       "        },\n",
       "\n",
       "        do_fit: function(that, info) {\n",
       "            // fit viewport to bounding box.\n",
       "            var svg = that.$svg[0];\n",
       "            var bbox = svg.getBBox();\n",
       "            var D = {\"width\": bbox.width, \"height\": bbox.height, \"x\": bbox.x, \"y\": bbox.y}\n",
       "            var vbox = \"\" + D.x + \" \" + D.y + \" \" + D.width + \" \" + D.height;\n",
       "            if ((D.width > 0) && (D.height > 0)) {\n",
       "                that.model.set(\"boundingBox\", D);\n",
       "                if (info.changeView) {\n",
       "                    that.model.set(\"viewBox\", vbox);\n",
       "                }\n",
       "                // Element viewBox will be updated later by model change.\n",
       "                that.touch();\n",
       "            }\n",
       "        },\n",
       "        \n",
       "        do_add_element: function (that, info) {\n",
       "            var tag = info.tag;\n",
       "            var name = info.name;\n",
       "            var element = that.svg_elt(tag);\n",
       "            element.ipy_name = name;\n",
       "            var $element = $(element);\n",
       "            that.update_element($element, info);\n",
       "            // add event callbacks\n",
       "            that.$svg.append($element);\n",
       "            that.named_elements[name] = $element;\n",
       "        },\n",
       "        \n",
       "        do_change_element: function (that, info) {\n",
       "            var name = info.name;\n",
       "            var $element = that.named_elements[name];\n",
       "            if ($element) {\n",
       "                that.update_element($element, info);\n",
       "            } else {\n",
       "                console.warn(\"couldn't find element for \"+name);\n",
       "            }\n",
       "        },\n",
       "        \n",
       "        do_delete: function (that, info) {\n",
       "            var names = info.names;\n",
       "            for (var i=0; i<names.length; i++) {\n",
       "                var name = names[i];\n",
       "                var $element = that.named_elements[name];\n",
       "                if ($element) {\n",
       "                    $element.remove();\n",
       "                    delete that.named_elements[name];\n",
       "                }\n",
       "            }\n",
       "        },\n",
       "        \n",
       "        update_element: function($element, info) {\n",
       "            var element = $element[0];\n",
       "            var atts = info.atts;\n",
       "            var style = info.style;\n",
       "            var text = info.text;\n",
       "            if (atts) {\n",
       "                for (var att in atts) {\n",
       "                    element.setAttribute(att, atts[att]);\n",
       "                }\n",
       "            }\n",
       "            if (style) {\n",
       "                for (var styling in style) {\n",
       "                    element.style[styling] = style[styling];\n",
       "                }\n",
       "            }\n",
       "            if (text) {\n",
       "                $element.empty();\n",
       "                var node = document.createTextNode(text);\n",
       "                element.appendChild(node);\n",
       "            }\n",
       "        },\n",
       "        \n",
       "        do_empty: function (that, info) {\n",
       "            that.named_elements = {};\n",
       "            that.$svg.empty();\n",
       "        },\n",
       "        \n",
       "        svg_parameters_changed: function() {\n",
       "            var that = this;\n",
       "            var style_additions = that.get_JSON(\"style\");\n",
       "            var svg = that.$svg[0];\n",
       "            svg.setAttribute(\"viewBox\", that.model.get(\"viewBox\"));\n",
       "            svg.setAttribute(\"width\", that.model.get(\"svg_width\"));\n",
       "            svg.setAttribute(\"height\", that.model.get(\"svg_height\"));\n",
       "            for (var style_attr in style_additions) {\n",
       "                svg.style[style_attr] = style_additions[style_attr];\n",
       "            }\n",
       "        },\n",
       "        \n",
       "        get_JSON: function(name) {\n",
       "            var json = this.model.get(name);\n",
       "            return $.parseJSON(json);\n",
       "        },\n",
       "        \n",
       "        svg_elt: function(kind) {\n",
       "            return document.createElementNS('http://www.w3.org/2000/svg', kind);\n",
       "        }\n",
       "        \n",
       "    });\n",
       "    \n",
       "    //manager.WidgetManager.register_widget_view('SVGCanvasView', SVGCanvasView);\n",
       "    return {\n",
       "        SVGCanvasView: SVGCanvasView\n",
       "    }\n",
       "});\n"
      ],
      "text/plain": [
       "<IPython.core.display.Javascript object>"
      ]
     },
     "metadata": {},
     "output_type": "display_data"
    },
    {
     "name": "stdout",
     "output_type": "stream",
     "text": [
      "abc [-8.  0. -8.]\n",
      "abc [-8.         -0.81927711 -3.18072289]\n",
      "abc [-7.         -1.26807229 -3.48192771]\n",
      "abc [-7.03125    -1.47844503 -3.12311747]\n",
      "abc [-7.09179688 -1.28363258 -2.42792263]\n",
      "abc [-6.85598755 -1.38857582 -2.51498634]\n",
      "abc [-6.87386274 -1.24187932 -2.60068968]\n",
      "abc [-6.75766069 -1.29467714 -2.64287179]\n",
      "abc [-6.76251358 -1.25836981 -2.66379807]\n"
     ]
    }
   ],
   "source": [
    "red = [(0,1), (0, -3), (-1,2), (4,3), (3,4)]\n",
    "blue = [(-1, -1), (0,0), (-4,-3), (-3,-4)]\n",
    "RB = separate.RedBlueObjective(red, blue)\n",
    "RB.run()"
   ]
  },
  {
   "cell_type": "code",
   "execution_count": 28,
   "metadata": {
    "collapsed": false
   },
   "outputs": [
    {
     "data": {
      "application/javascript": [
       "\n",
       "// This is the javascript side to match js_proxy.py.\n",
       "// See js_proxy.py for an explanation of the command transfer\n",
       "// protocol\n",
       "\n",
       "// imitating ipywidgets/docs/source/examples/Custom Widget - Hello World.ipynb\n",
       "\n",
       "//require([\"widgets/js/widget\", \"widgets/js/manager\", \"underscore\", \"jquery\"\n",
       "//], function(widget, manager, _, $) {\n",
       "\n",
       "require.undef(\"JSProxy\");\n",
       "\n",
       "define(\"JSProxy\", [\"jupyter-js-widgets\"], function(widgets) {\n",
       "\n",
       "    var JSProxyView = widgets.DOMWidgetView.extend({\n",
       "\n",
       "        render: function() {\n",
       "            var that = this;\n",
       "            that.on(\"displayed\", function() {\n",
       "                that.update();\n",
       "            });\n",
       "            // Wrap $el as a proper jQuery object\n",
       "            that.$$el = $(that.$el);\n",
       "            // \"new\" keyword emulation\n",
       "            // http://stackoverflow.com/questions/17342497/dynamically-control-arguments-while-creating-objects-in-javascript\n",
       "            that.$$el.New = function(klass, args) {\n",
       "                var obj = Object.create(klass.prototype);\n",
       "                return klass.apply(obj, args) || obj;\n",
       "            };\n",
       "\n",
       "            // fix key bindings for wayward element.\n",
       "            // XXXX This is a bit of a hack that may not be needed in future\n",
       "            // Jupyter releases.\n",
       "            that.$$el.Fix = function(element) {\n",
       "                debugger;\n",
       "                that.model.widget_manager.keyboard_manager.register_events(element);\n",
       "            };\n",
       "        },\n",
       "\n",
       "        update: function(options) {\n",
       "            var that = this;\n",
       "            var commands = that.model.get(\"commands\");\n",
       "            if (commands.length >= 2) {\n",
       "                var command_counter = commands[0];\n",
       "                var command_list = commands[1];\n",
       "                var level = commands[2];\n",
       "                level = that.check_level(level);\n",
       "                var results = [];\n",
       "                _.each(command_list, function(command,i) {\n",
       "                    var result = that.execute_command(command);\n",
       "                    results[i] = that.json_safe(result, level);\n",
       "                });\n",
       "                that.model.set(\"commands\", []);\n",
       "                that.model.set(\"results\", [command_counter, results])\n",
       "                that.touch();\n",
       "            }\n",
       "        },\n",
       "\n",
       "        execute_command: function(command) {\n",
       "            var that = this;\n",
       "            var result = command;\n",
       "            if ($.isArray(command)) {\n",
       "                var indicator = command[0];\n",
       "                var remainder = command.slice();\n",
       "                remainder.shift();\n",
       "                if (indicator == \"element\") {\n",
       "                    // Make sure the element is wrapped as a proper JQuery(UI) object\n",
       "                    if (!that.$$el) {\n",
       "                        that.$$el = $(that.$el);\n",
       "                    }\n",
       "                    result = that.$$el;\n",
       "                } else if (indicator == \"window\") {\n",
       "                    result = window;\n",
       "                } else if (indicator == \"method\") {\n",
       "                    var target_desc = remainder.shift();\n",
       "                    var target = that.execute_command(target_desc);\n",
       "                    var name = remainder.shift();\n",
       "                    var args = remainder.map(that.execute_command, that);\n",
       "                    var method = target[name];\n",
       "                    if (method) {\n",
       "                        result = method.apply(target, args);\n",
       "                    } else {\n",
       "                        result = \"In \" + target + \" no such method \" + name;\n",
       "                    }\n",
       "                } else if (indicator == \"function\") {\n",
       "                    var function_desc = remainder.shift();\n",
       "                    var function_value = that.execute_command(function_desc);\n",
       "                    var args = remainder.map(that.execute_command, that);\n",
       "                    // Use \"that\" as the \"this\" value for function values?\n",
       "                    result = function_value.apply(that, args);\n",
       "                } else if (indicator == \"id\") {\n",
       "                    result = remainder[0];\n",
       "                } else if (indicator == \"list\") {\n",
       "                    result = remainder.map(that.execute_command, that);\n",
       "                } else if (indicator == \"dict\") {\n",
       "                    result = {}\n",
       "                    var desc = remainder[0];\n",
       "                    for (var key in desc) {\n",
       "                        var key_desc = desc[key];\n",
       "                        var val = that.execute_command(key_desc);\n",
       "                        result[key] = val;\n",
       "                    }\n",
       "                } else if (indicator == \"callback\") {\n",
       "                    var identifier = remainder.shift();\n",
       "                    var data = remainder.shift();\n",
       "                    var level = remainder.shift();\n",
       "                    // sanity check\n",
       "                    level = that.check_level(level);\n",
       "                    result = that.callback_factory(identifier, data, level);\n",
       "                } else if (indicator == \"get\") {\n",
       "                    var target_desc = remainder.shift();\n",
       "                    var target = that.execute_command(target_desc);\n",
       "                    var name = remainder.shift();\n",
       "                    try {\n",
       "                        result = target[name];\n",
       "                    } catch(err) {\n",
       "                        result = \"failed to get \"+name+\" from \"+target+\" :: \"+err;\n",
       "                    }\n",
       "                } else if (indicator == \"set\") {\n",
       "                    var target_desc = remainder.shift();\n",
       "                    var target = that.execute_command(target_desc);\n",
       "                    var name = remainder.shift();\n",
       "                    var value_desc = remainder.shift()\n",
       "                    var value = that.execute_command(value_desc);\n",
       "                    target[name] = value;\n",
       "                    result = target;\n",
       "                } else if (indicator == \"null\") {\n",
       "                    target_desc = remainder.shift();\n",
       "                    that.execute_command(target_desc);\n",
       "                    result = null;\n",
       "                } else {\n",
       "                    result = \"Unknown indicator \" + indicator;\n",
       "                }\n",
       "            }\n",
       "            return result;\n",
       "        },\n",
       "\n",
       "        check_level: function(level) {\n",
       "            if ((typeof level) != \"number\" || (level < 0)) {\n",
       "                level = 0;\n",
       "            } else if (level > 5) {\n",
       "                level = 5;\n",
       "            }\n",
       "            return level;\n",
       "        },\n",
       "\n",
       "        callback_factory: function(identifier, data, level) {\n",
       "            var that = this;\n",
       "            // Counter makes sure change is noticed even if other arguments don't change.\n",
       "            var counter = 0;\n",
       "            var handler = function () {\n",
       "                counter += 1;\n",
       "                var payload = that.json_safe([identifier, data, arguments, counter], level + 1);\n",
       "                that.model.set(\"callback_results\", payload);\n",
       "                that.touch();\n",
       "            };\n",
       "            return handler;\n",
       "        },\n",
       "\n",
       "        json_safe: function(val, depth) {\n",
       "            // maybe expand later as need arises\n",
       "            var that = this;\n",
       "            var ty = (typeof val);\n",
       "            if ((ty == \"number\") || (ty == \"string\") || (ty == \"boolean\")) {\n",
       "                return val;\n",
       "            }\n",
       "            if (!val) {\n",
       "                // translate all other falsies to None\n",
       "                return null;\n",
       "            }\n",
       "            if (((typeof depth) == \"number\") && (depth > 0)) {\n",
       "                if ($.isArray(val)) {\n",
       "                    var result = [];\n",
       "                    _.each(val, function(elt, i) {\n",
       "                        var r = that.json_safe(elt, depth-1);\n",
       "                        if (r != null) {\n",
       "                            result[i] = r;\n",
       "                        }\n",
       "                    });\n",
       "                    return result;\n",
       "                } else {\n",
       "                    var result = {};\n",
       "                    for (var key in val) {\n",
       "                        var jv = that.json_safe(val[key], depth-1);\n",
       "                        if (jv != null) {\n",
       "                            result[key] = jv;\n",
       "                        }\n",
       "                    }\n",
       "                    return result;\n",
       "                }\n",
       "            }\n",
       "            return null;\n",
       "        }\n",
       "\n",
       "    });\n",
       "\n",
       "    //manager.WidgetManager.register_widget_view('JSProxyView', JSProxyView);\n",
       "    return {\n",
       "        JSProxyView: JSProxyView\n",
       "    }\n",
       "});\n"
      ],
      "text/plain": [
       "<IPython.core.display.Javascript object>"
      ]
     },
     "metadata": {},
     "output_type": "display_data"
    }
   ],
   "source": [
    "from jp_gene_viz import examine\n",
    "examine.examine(RB.drawing)"
   ]
  },
  {
   "cell_type": "code",
   "execution_count": null,
   "metadata": {
    "collapsed": false
   },
   "outputs": [],
   "source": [
    "mean = (1,2)\n",
    "cov = np.diag([3,4])"
   ]
  },
  {
   "cell_type": "code",
   "execution_count": 58,
   "metadata": {
    "collapsed": false
   },
   "outputs": [
    {
     "data": {
      "text/plain": [
       "<module 'separate' from 'separate.py'>"
      ]
     },
     "execution_count": 58,
     "metadata": {},
     "output_type": "execute_result"
    }
   ],
   "source": [
    "reload(separate)"
   ]
  },
  {
   "cell_type": "code",
   "execution_count": 18,
   "metadata": {
    "collapsed": false
   },
   "outputs": [
    {
     "ename": "NameError",
     "evalue": "name 'random' is not defined",
     "output_type": "error",
     "traceback": [
      "\u001b[0;31m---------------------------------------------------------------------------\u001b[0m",
      "\u001b[0;31mNameError\u001b[0m                                 Traceback (most recent call last)",
      "\u001b[0;32m<ipython-input-18-615e353844e5>\u001b[0m in \u001b[0;36m<module>\u001b[0;34m()\u001b[0m\n\u001b[0;32m----> 1\u001b[0;31m \u001b[0mrandom\u001b[0m\u001b[0;34m.\u001b[0m\u001b[0mmultivariate_normal\u001b[0m\u001b[0;34m(\u001b[0m\u001b[0mmean\u001b[0m\u001b[0;34m,\u001b[0m \u001b[0mcov\u001b[0m\u001b[0;34m,\u001b[0m \u001b[0;36m20\u001b[0m\u001b[0;34m)\u001b[0m\u001b[0;34m\u001b[0m\u001b[0m\n\u001b[0m",
      "\u001b[0;31mNameError\u001b[0m: name 'random' is not defined"
     ]
    }
   ],
   "source": [
    "random.multivariate_normal(mean, cov, 20)"
   ]
  },
  {
   "cell_type": "code",
   "execution_count": 157,
   "metadata": {
    "collapsed": false
   },
   "outputs": [
    {
     "name": "stdout",
     "output_type": "stream",
     "text": [
      "bounds [[-9.804807260934167, 9.804807260934167], [-9.804807260934167, 9.804807260934167], [-9.804807260934167, 9.804807260934167]]\n",
      "abc [-9.80480726 -9.80480726 -9.80480726]\n",
      "abc [-9.80480726 -4.90240363 -9.80480726]\n",
      "abc [-4.90240363 -6.12800454 -9.80480726]\n",
      "abc [-5.51520408 -4.13640306 -9.80480726]\n",
      "abc [-3.63434968 -3.60435568 -6.85155206]\n",
      "abc [-1.94633405 -2.89939297 -6.24320802]\n",
      "abc [-2.0691227  -2.70088984 -6.298858  ]\n",
      "abc [-2.03726851 -2.69547831 -6.23395901]\n"
     ]
    }
   ],
   "source": [
    "import time\n",
    "#time.sleep(10)\n",
    "RB = separate.mvn_test()"
   ]
  },
  {
   "cell_type": "code",
   "execution_count": 50,
   "metadata": {
    "collapsed": false
   },
   "outputs": [
    {
     "data": {
      "image/png": "[encoded data removed]",
      "text/latex": [
       "$$10$$"
      ],
      "text/plain": [
       "10"
      ]
     },
     "execution_count": 50,
     "metadata": {},
     "output_type": "execute_result"
    }
   ],
   "source": [
    "RB.limit"
   ]
  },
  {
   "cell_type": "code",
   "execution_count": 51,
   "metadata": {
    "collapsed": false
   },
   "outputs": [
    {
     "data": {
      "text/plain": [
       "(            status: 0\n",
       "            runner: <franke_wolfe.fw_optimize.FrankWolfe object at 0x10dd442d0>\n",
       "            vertex: array([-19.29258888, -19.29258888, -19.29258888])\n",
       "           g_count: 9\n",
       "           message: 'Successful.'\n",
       "          estimate: array([ -1.68677606,  -3.10850605, -13.10955425])\n",
       "               nit: 7\n",
       "     next_estimate: array([ -1.6867847 ,  -3.10850926, -13.10957783])\n",
       "             slack: array([ 38.58517777,  38.58517777,  38.58517777])\n",
       "           success: True\n",
       " convergence_value: 0.0\n",
       "             blend: array([ -3.08885044,  -3.63503434, -13.00046312])\n",
       "         iteration: 7\n",
       "     scalar_result:    start: array([ -1.68677606,  -3.10850605, -13.10955425])\n",
       " message: 'improvement found'\n",
       "     end: array([ -3.95149411,  -3.95149411, -19.29258888])\n",
       " success: True\n",
       "       x: array([ -1.6867847 ,  -3.10850926, -13.10957783])\n",
       "               fun: 0.0\n",
       "                 x: array([ -1.6867847 ,  -3.10850926, -13.10957783])\n",
       "         tolerance: 1e-12\n",
       "           f_count: 89,\n",
       " True,\n",
       " array([ -1.68677606,  -3.10850605, -13.10955425]),\n",
       " array([ 0.,  0.,  0.]),\n",
       " array([-19.29258888, -19.29258888, -19.29258888]),\n",
       " array([ -1.6867847 ,  -3.10850926, -13.10957783]),\n",
       " array([ -3.08885044,  -3.63503434, -13.00046312]))"
      ]
     },
     "execution_count": 51,
     "metadata": {},
     "output_type": "execute_result"
    }
   ],
   "source": [
    "RB.callback_args[-1]"
   ]
  },
  {
   "cell_type": "code",
   "execution_count": 57,
   "metadata": {
    "collapsed": false
   },
   "outputs": [
    {
     "name": "stdout",
     "output_type": "stream",
     "text": [
      "[-3.         -2.71428571 -2.42857143 -2.14285714 -1.85714286 -1.57142857\n",
      " -1.28571429 -1.         -0.71428571 -0.42857143 -0.14285714  0.14285714\n",
      "  0.42857143  0.71428571  1.        ]\n"
     ]
    }
   ],
   "source": [
    "def f(x):\n",
    "    x = x - 1\n",
    "    q = 0.5 * (x ** 2 - 1)\n",
    "    p = np.where(x>1, x, 1)\n",
    "    lg = np.log(p)\n",
    "    return np.where(x>1, lg, q)\n",
    "\n",
    "def fp(x):\n",
    "    x = x-1\n",
    "    p = np.where(x>1, x, 1)\n",
    "    inv = 1.0 / p\n",
    "    return np.where(x>1, inv, x)\n",
    "    \n",
    "print fp(np.linspace(-2,2,15))"
   ]
  },
  {
   "cell_type": "code",
   "execution_count": 58,
   "metadata": {
    "collapsed": false
   },
   "outputs": [
    {
     "data": {
      "text/html": [
       "\n",
       "<div id=\"jp_svg_canvas_static_883480\"/>\n",
       "\n",
       "<script>\n",
       "(function () {\n",
       "    var $div = $(\"#jp_svg_canvas_static_883480\");\n",
       "    $div.width(600.0);\n",
       "    $div.height(600.0);\n",
       "    var svg_elt = function(kind) {\n",
       "            return document.createElementNS('http://www.w3.org/2000/svg', kind);\n",
       "        };\n",
       "    var svg = svg_elt(\"svg\");\n",
       "    var $svg = $(svg);\n",
       "    $div.append(svg);\n",
       "    $div.named_elements = {};\n",
       "    svg.setAttribute(\"preserveAspectRatio\", \"none\");\n",
       "    svg.setAttribute(\"viewBox\", \"0 0 600.0 600.0\");\n",
       "    var add_element = function (name, tagname, attribute_dict, style_dict, text) {\n",
       "        var element = svg_elt(tagname);\n",
       "        var $element = $(element);\n",
       "        update_element($element, attribute_dict, style_dict, text);\n",
       "        $div.named_elements[name] = $element;\n",
       "        $svg.append($element);\n",
       "    };\n",
       "    var change_element = function (name, attribute_dict, style_dict, text) {\n",
       "        var $element = $div.named_elements[name];\n",
       "        if ($element) {\n",
       "            update_element($element, attribute_dict, style_dict, text);\n",
       "        }\n",
       "    };\n",
       "    var update_element = function ($element, atts, style, text) {\n",
       "        var element = $element[0];\n",
       "        if (atts) {\n",
       "            for (var att in atts) {\n",
       "                element.setAttribute(att, atts[att]);\n",
       "            }\n",
       "        }\n",
       "        if (style) {\n",
       "            for (var styling in style) {\n",
       "                element.style[styling] = style[styling];\n",
       "            }\n",
       "        }\n",
       "        if (text) {\n",
       "            $element.empty();\n",
       "            var node = document.createTextNode(text);\n",
       "            $element.append(node);\n",
       "        }\n",
       "    };\n",
       "    var empty = function () {\n",
       "        $div.named_elements = {};\n",
       "        $svg.empty();\n",
       "    };\n",
       "    var delete_names = function (names) {\n",
       "        for (var i=0; i<names.length; i++) {\n",
       "            var name = names[i];\n",
       "            var $element = $div.named_elements[name];\n",
       "            if ($element) {\n",
       "                $element.remove();\n",
       "                delete that.named_elements[name];\n",
       "            }\n",
       "        }\n",
       "    };\n",
       "    var fit = function() {\n",
       "            // fit viewport to bounding box.\n",
       "            var bbox = svg.getBBox();\n",
       "            var vbox = \"\" + bbox.x + \" \" + bbox.y + \" \" + bbox.width + \" \" + bbox.height;\n",
       "            svg.setAttribute(\"viewBox\", vbox);\n",
       "        };\n",
       "    add_element(null, \"line\", {\"y1\": -325.0, \"x2\": 55.05050505050505, \"stroke\": \"blue\", \"x1\": 50.0, \"y2\": -304.9510254055708}, {}, null);\n",
       "    add_element(null, \"line\", {\"y1\": -304.9510254055708, \"x2\": 60.101010101010104, \"stroke\": \"blue\", \"x1\": 55.05050505050505, \"y2\": -285.2081420263239}, {}, null);\n",
       "    add_element(null, \"line\", {\"y1\": -285.2081420263239, \"x2\": 65.15151515151516, \"stroke\": \"blue\", \"x1\": 60.101010101010104, \"y2\": -265.77134986225906}, {}, null);\n",
       "    add_element(null, \"line\", {\"y1\": -265.77134986225906, \"x2\": 70.20202020202021, \"stroke\": \"blue\", \"x1\": 65.15151515151516, \"y2\": -246.64064891337625}, {}, null);\n",
       "    add_element(null, \"line\", {\"y1\": -246.64064891337625, \"x2\": 75.25252525252529, \"stroke\": \"blue\", \"x1\": 70.20202020202021, \"y2\": -227.8160391796755}, {}, null);\n",
       "    add_element(null, \"line\", {\"y1\": -227.8160391796755, \"x2\": 80.30303030303031, \"stroke\": \"blue\", \"x1\": 75.25252525252529, \"y2\": -209.2975206611569}, {}, null);\n",
       "    add_element(null, \"line\", {\"y1\": -209.2975206611569, \"x2\": 85.35353535353536, \"stroke\": \"blue\", \"x1\": 80.30303030303031, \"y2\": -191.08509335782054}, {}, null);\n",
       "    add_element(null, \"line\", {\"y1\": -191.08509335782054, \"x2\": 90.40404040404042, \"stroke\": \"blue\", \"x1\": 85.35353535353536, \"y2\": -173.17875726966628}, {}, null);\n",
       "    add_element(null, \"line\", {\"y1\": -173.17875726966628, \"x2\": 95.45454545454547, \"stroke\": \"blue\", \"x1\": 90.40404040404042, \"y2\": -155.57851239669418}, {}, null);\n",
       "    add_element(null, \"line\", {\"y1\": -155.57851239669418, \"x2\": 100.50505050505052, \"stroke\": \"blue\", \"x1\": 95.45454545454547, \"y2\": -138.28435873890425}, {}, null);\n",
       "    add_element(null, \"line\", {\"y1\": -138.28435873890425, \"x2\": 105.5555555555556, \"stroke\": \"blue\", \"x1\": 100.50505050505052, \"y2\": -121.29629629629619}, {}, null);\n",
       "    add_element(null, \"line\", {\"y1\": -121.29629629629619, \"x2\": 110.60606060606062, \"stroke\": \"blue\", \"x1\": 105.5555555555556, \"y2\": -104.61432506887041}, {}, null);\n",
       "    add_element(null, \"line\", {\"y1\": -104.61432506887041, \"x2\": 115.65656565656568, \"stroke\": \"blue\", \"x1\": 110.60606060606062, \"y2\": -88.2384450566268}, {}, null);\n",
       "    add_element(null, \"line\", {\"y1\": -88.2384450566268, \"x2\": 120.70707070707073, \"stroke\": \"blue\", \"x1\": 115.65656565656568, \"y2\": -72.1686562595653}, {}, null);\n",
       "    add_element(null, \"line\", {\"y1\": -72.1686562595653, \"x2\": 125.75757575757578, \"stroke\": \"blue\", \"x1\": 120.70707070707073, \"y2\": -56.4049586776859}, {}, null);\n",
       "    add_element(null, \"line\", {\"y1\": -56.4049586776859, \"x2\": 130.80808080808083, \"stroke\": \"blue\", \"x1\": 125.75757575757578, \"y2\": -40.947352310988606}, {}, null);\n",
       "    add_element(null, \"line\", {\"y1\": -40.947352310988606, \"x2\": 135.85858585858585, \"stroke\": \"blue\", \"x1\": 130.80808080808083, \"y2\": -25.79583715947348}, {}, null);\n",
       "    add_element(null, \"line\", {\"y1\": -25.79583715947348, \"x2\": 140.9090909090909, \"stroke\": \"blue\", \"x1\": 135.85858585858585, \"y2\": -10.950413223140515}, {}, null);\n",
       "    add_element(null, \"line\", {\"y1\": -10.950413223140515, \"x2\": 145.959595959596, \"stroke\": \"blue\", \"x1\": 140.9090909090909, \"y2\": 3.588919498010398}, {}, null);\n",
       "    add_element(null, \"line\", {\"y1\": 3.588919498010398, \"x2\": 151.010101010101, \"stroke\": \"blue\", \"x1\": 145.959595959596, \"y2\": 17.822161003979147}, {}, null);\n",
       "    add_element(null, \"line\", {\"y1\": 17.822161003979147, \"x2\": 156.06060606060606, \"stroke\": \"blue\", \"x1\": 151.010101010101, \"y2\": 31.74931129476579}, {}, null);\n",
       "    add_element(null, \"line\", {\"y1\": 31.74931129476579, \"x2\": 161.11111111111114, \"stroke\": \"blue\", \"x1\": 156.06060606060606, \"y2\": 45.37037037037041}, {}, null);\n",
       "    add_element(null, \"line\", {\"y1\": 45.37037037037041, \"x2\": 166.16161616161617, \"stroke\": \"blue\", \"x1\": 161.11111111111114, \"y2\": 58.68533823079281}, {}, null);\n",
       "    add_element(null, \"line\", {\"y1\": 58.68533823079281, \"x2\": 171.21212121212122, \"stroke\": \"blue\", \"x1\": 166.16161616161617, \"y2\": 71.69421487603307}, {}, null);\n",
       "    add_element(null, \"line\", {\"y1\": 71.69421487603307, \"x2\": 176.26262626262627, \"stroke\": \"blue\", \"x1\": 171.21212121212122, \"y2\": 84.3970003060912}, {}, null);\n",
       "    add_element(null, \"line\", {\"y1\": 84.3970003060912, \"x2\": 181.3131313131313, \"stroke\": \"blue\", \"x1\": 176.26262626262627, \"y2\": 96.79369452096725}, {}, null);\n",
       "    add_element(null, \"line\", {\"y1\": 96.79369452096725, \"x2\": 186.36363636363637, \"stroke\": \"blue\", \"x1\": 181.3131313131313, \"y2\": 108.88429752066125}, {}, null);\n",
       "    add_element(null, \"line\", {\"y1\": 108.88429752066125, \"x2\": 191.41414141414143, \"stroke\": \"blue\", \"x1\": 186.36363636363637, \"y2\": 120.668809305173}, {}, null);\n",
       "    add_element(null, \"line\", {\"y1\": 120.668809305173, \"x2\": 196.46464646464648, \"stroke\": \"blue\", \"x1\": 191.41414141414143, \"y2\": 132.14722987450264}, {}, null);\n",
       "    add_element(null, \"line\", {\"y1\": 132.14722987450264, \"x2\": 201.51515151515153, \"stroke\": \"blue\", \"x1\": 196.46464646464648, \"y2\": 143.31955922865018}, {}, null);\n",
       "    add_element(null, \"line\", {\"y1\": 143.31955922865018, \"x2\": 206.56565656565658, \"stroke\": \"blue\", \"x1\": 201.51515151515153, \"y2\": 154.18579736761558}, {}, null);\n",
       "    add_element(null, \"line\", {\"y1\": 154.18579736761558, \"x2\": 211.6161616161616, \"stroke\": \"blue\", \"x1\": 206.56565656565658, \"y2\": 164.74594429139884}, {}, null);\n",
       "    add_element(null, \"line\", {\"y1\": 164.74594429139884, \"x2\": 216.66666666666669, \"stroke\": \"blue\", \"x1\": 211.6161616161616, \"y2\": 175.0}, {}, null);\n",
       "    add_element(null, \"line\", {\"y1\": 175.0, \"x2\": 221.7171717171717, \"stroke\": \"blue\", \"x1\": 216.66666666666669, \"y2\": 184.94796449341902}, {}, null);\n",
       "    add_element(null, \"line\", {\"y1\": 184.94796449341902, \"x2\": 226.76767676767676, \"stroke\": \"blue\", \"x1\": 221.7171717171717, \"y2\": 194.58983777165594}, {}, null);\n",
       "    add_element(null, \"line\", {\"y1\": 194.58983777165594, \"x2\": 231.8181818181818, \"stroke\": \"blue\", \"x1\": 226.76767676767676, \"y2\": 203.92561983471074}, {}, null);\n",
       "    add_element(null, \"line\", {\"y1\": 203.92561983471074, \"x2\": 236.8686868686869, \"stroke\": \"blue\", \"x1\": 231.8181818181818, \"y2\": 212.95531068258344}, {}, null);\n",
       "    add_element(null, \"line\", {\"y1\": 212.95531068258344, \"x2\": 241.91919191919195, \"stroke\": \"blue\", \"x1\": 236.8686868686869, \"y2\": 221.67891031527398}, {}, null);\n",
       "    add_element(null, \"line\", {\"y1\": 221.67891031527398, \"x2\": 246.969696969697, \"stroke\": \"blue\", \"x1\": 241.91919191919195, \"y2\": 230.0964187327824}, {}, null);\n",
       "    add_element(null, \"line\", {\"y1\": 230.0964187327824, \"x2\": 252.02020202020202, \"stroke\": \"blue\", \"x1\": 246.969696969697, \"y2\": 238.20783593510868}, {}, null);\n",
       "    add_element(null, \"line\", {\"y1\": 238.20783593510868, \"x2\": 257.07070707070704, \"stroke\": \"blue\", \"x1\": 252.02020202020202, \"y2\": 246.01316192225283}, {}, null);\n",
       "    add_element(null, \"line\", {\"y1\": 246.01316192225283, \"x2\": 262.1212121212121, \"stroke\": \"blue\", \"x1\": 257.07070707070704, \"y2\": 253.51239669421489}, {}, null);\n",
       "    add_element(null, \"line\", {\"y1\": 253.51239669421489, \"x2\": 267.17171717171715, \"stroke\": \"blue\", \"x1\": 262.1212121212121, \"y2\": 260.7055402509948}, {}, null);\n",
       "    add_element(null, \"line\", {\"y1\": 260.7055402509948, \"x2\": 272.22222222222223, \"stroke\": \"blue\", \"x1\": 267.17171717171715, \"y2\": 267.5925925925926}, {}, null);\n",
       "    add_element(null, \"line\", {\"y1\": 267.5925925925926, \"x2\": 277.2727272727273, \"stroke\": \"blue\", \"x1\": 272.22222222222223, \"y2\": 274.1735537190083}, {}, null);\n",
       "    add_element(null, \"line\", {\"y1\": 274.1735537190083, \"x2\": 282.32323232323233, \"stroke\": \"blue\", \"x1\": 277.2727272727273, \"y2\": 280.44842363024185}, {}, null);\n",
       "    add_element(null, \"line\", {\"y1\": 280.44842363024185, \"x2\": 287.3737373737374, \"stroke\": \"blue\", \"x1\": 282.32323232323233, \"y2\": 286.41720232629325}, {}, null);\n",
       "    add_element(null, \"line\", {\"y1\": 286.41720232629325, \"x2\": 292.42424242424244, \"stroke\": \"blue\", \"x1\": 287.3737373737374, \"y2\": 292.07988980716254}, {}, null);\n",
       "    add_element(null, \"line\", {\"y1\": 292.07988980716254, \"x2\": 297.47474747474746, \"stroke\": \"blue\", \"x1\": 292.42424242424244, \"y2\": 297.43648607284973}, {}, null);\n",
       "    add_element(null, \"line\", {\"y1\": 297.43648607284973, \"x2\": 302.52525252525254, \"stroke\": \"blue\", \"x1\": 297.47474747474746, \"y2\": 302.48699112335476}, {}, null);\n",
       "    add_element(null, \"line\", {\"y1\": 302.48699112335476, \"x2\": 307.57575757575756, \"stroke\": \"blue\", \"x1\": 302.52525252525254, \"y2\": 307.2314049586777}, {}, null);\n",
       "    add_element(null, \"line\", {\"y1\": 307.2314049586777, \"x2\": 312.6262626262626, \"stroke\": \"blue\", \"x1\": 307.57575757575756, \"y2\": 311.6697275788185}, {}, null);\n",
       "    add_element(null, \"line\", {\"y1\": 311.6697275788185, \"x2\": 317.67676767676767, \"stroke\": \"blue\", \"x1\": 312.6262626262626, \"y2\": 315.8019589837772}, {}, null);\n",
       "    add_element(null, \"line\", {\"y1\": 315.8019589837772, \"x2\": 322.72727272727275, \"stroke\": \"blue\", \"x1\": 317.67676767676767, \"y2\": 319.6280991735537}, {}, null);\n",
       "    add_element(null, \"line\", {\"y1\": 319.6280991735537, \"x2\": 327.77777777777777, \"stroke\": \"blue\", \"x1\": 322.72727272727275, \"y2\": 323.14814814814815}, {}, null);\n",
       "    add_element(null, \"line\", {\"y1\": 323.14814814814815, \"x2\": 332.82828282828285, \"stroke\": \"blue\", \"x1\": 327.77777777777777, \"y2\": 326.3621059075605}, {}, null);\n",
       "    add_element(null, \"line\", {\"y1\": 326.3621059075605, \"x2\": 337.8787878787879, \"stroke\": \"blue\", \"x1\": 332.82828282828285, \"y2\": 329.26997245179064}, {}, null);\n",
       "    add_element(null, \"line\", {\"y1\": 329.26997245179064, \"x2\": 342.92929292929296, \"stroke\": \"blue\", \"x1\": 337.8787878787879, \"y2\": 331.8717477808387}, {}, null);\n",
       "    add_element(null, \"line\", {\"y1\": 331.8717477808387, \"x2\": 347.979797979798, \"stroke\": \"blue\", \"x1\": 342.92929292929296, \"y2\": 334.16743189470463}, {}, null);\n",
       "    add_element(null, \"line\", {\"y1\": 334.16743189470463, \"x2\": 353.03030303030306, \"stroke\": \"blue\", \"x1\": 347.979797979798, \"y2\": 336.1570247933884}, {}, null);\n",
       "    add_element(null, \"line\", {\"y1\": 336.1570247933884, \"x2\": 358.0808080808081, \"stroke\": \"blue\", \"x1\": 353.03030303030306, \"y2\": 337.8405264768901}, {}, null);\n",
       "    add_element(null, \"line\", {\"y1\": 337.8405264768901, \"x2\": 363.13131313131316, \"stroke\": \"blue\", \"x1\": 358.0808080808081, \"y2\": 339.21793694520966}, {}, null);\n",
       "    add_element(null, \"line\", {\"y1\": 339.21793694520966, \"x2\": 368.1818181818182, \"stroke\": \"blue\", \"x1\": 363.13131313131316, \"y2\": 340.2892561983471}, {}, null);\n",
       "    add_element(null, \"line\", {\"y1\": 340.2892561983471, \"x2\": 373.2323232323232, \"stroke\": \"blue\", \"x1\": 368.1818181818182, \"y2\": 341.0544842363024}, {}, null);\n",
       "    add_element(null, \"line\", {\"y1\": 341.0544842363024, \"x2\": 378.2828282828283, \"stroke\": \"blue\", \"x1\": 373.2323232323232, \"y2\": 341.5136210590756}, {}, null);\n",
       "    add_element(null, \"line\", {\"y1\": 341.5136210590756, \"x2\": 383.3333333333333, \"stroke\": \"blue\", \"x1\": 378.2828282828283, \"y2\": 341.6666666666667}, {}, null);\n",
       "    add_element(null, \"line\", {\"y1\": 341.6666666666667, \"x2\": 388.3838383838384, \"stroke\": \"blue\", \"x1\": 383.3333333333333, \"y2\": 341.5136210590756}, {}, null);\n",
       "    add_element(null, \"line\", {\"y1\": 341.5136210590756, \"x2\": 393.4343434343434, \"stroke\": \"blue\", \"x1\": 388.3838383838384, \"y2\": 341.0544842363024}, {}, null);\n",
       "    add_element(null, \"line\", {\"y1\": 341.0544842363024, \"x2\": 398.4848484848485, \"stroke\": \"blue\", \"x1\": 393.4343434343434, \"y2\": 340.2892561983471}, {}, null);\n",
       "    add_element(null, \"line\", {\"y1\": 340.2892561983471, \"x2\": 403.5353535353535, \"stroke\": \"blue\", \"x1\": 398.4848484848485, \"y2\": 339.21793694520966}, {}, null);\n",
       "    add_element(null, \"line\", {\"y1\": 339.21793694520966, \"x2\": 408.58585858585855, \"stroke\": \"blue\", \"x1\": 403.5353535353535, \"y2\": 337.8405264768901}, {}, null);\n",
       "    add_element(null, \"line\", {\"y1\": 337.8405264768901, \"x2\": 413.6363636363636, \"stroke\": \"blue\", \"x1\": 408.58585858585855, \"y2\": 336.1570247933884}, {}, null);\n",
       "    add_element(null, \"line\", {\"y1\": 336.1570247933884, \"x2\": 418.6868686868687, \"stroke\": \"blue\", \"x1\": 413.6363636363636, \"y2\": 334.1674318947046}, {}, null);\n",
       "    add_element(null, \"line\", {\"y1\": 334.1674318947046, \"x2\": 423.7373737373738, \"stroke\": \"blue\", \"x1\": 418.6868686868687, \"y2\": 331.8717477808387}, {}, null);\n",
       "    add_element(null, \"line\", {\"y1\": 331.8717477808387, \"x2\": 428.7878787878788, \"stroke\": \"blue\", \"x1\": 423.7373737373738, \"y2\": 329.26997245179064}, {}, null);\n",
       "    add_element(null, \"line\", {\"y1\": 329.26997245179064, \"x2\": 433.83838383838383, \"stroke\": \"blue\", \"x1\": 428.7878787878788, \"y2\": 326.3621059075604}, {}, null);\n",
       "    add_element(null, \"line\", {\"y1\": 326.3621059075604, \"x2\": 438.8888888888889, \"stroke\": \"blue\", \"x1\": 433.83838383838383, \"y2\": 323.14814814814815}, {}, null);\n",
       "    add_element(null, \"line\", {\"y1\": 323.14814814814815, \"x2\": 443.93939393939394, \"stroke\": \"blue\", \"x1\": 438.8888888888889, \"y2\": 319.6280991735537}, {}, null);\n",
       "    add_element(null, \"line\", {\"y1\": 319.6280991735537, \"x2\": 448.98989898989896, \"stroke\": \"blue\", \"x1\": 443.93939393939394, \"y2\": 315.8019589837771}, {}, null);\n",
       "    add_element(null, \"line\", {\"y1\": 315.8019589837771, \"x2\": 454.04040404040404, \"stroke\": \"blue\", \"x1\": 448.98989898989896, \"y2\": 311.6697275788185}, {}, null);\n",
       "    add_element(null, \"line\", {\"y1\": 311.6697275788185, \"x2\": 459.0909090909091, \"stroke\": \"blue\", \"x1\": 454.04040404040404, \"y2\": 307.2314049586777}, {}, null);\n",
       "    add_element(null, \"line\", {\"y1\": 307.2314049586777, \"x2\": 464.14141414141415, \"stroke\": \"blue\", \"x1\": 459.0909090909091, \"y2\": 302.48699112335476}, {}, null);\n",
       "    add_element(null, \"line\", {\"y1\": 302.48699112335476, \"x2\": 469.19191919191917, \"stroke\": \"blue\", \"x1\": 464.14141414141415, \"y2\": 297.5122530708599}, {}, null);\n",
       "    add_element(null, \"line\", {\"y1\": 297.5122530708599, \"x2\": 474.24242424242425, \"stroke\": \"blue\", \"x1\": 469.19191919191917, \"y2\": 292.74905191753083}, {}, null);\n",
       "    add_element(null, \"line\", {\"y1\": 292.74905191753083, \"x2\": 479.2929292929293, \"stroke\": \"blue\", \"x1\": 474.24242424242425, \"y2\": 288.2434501450079}, {}, null);\n",
       "    add_element(null, \"line\", {\"y1\": 288.2434501450079, \"x2\": 484.3434343434343, \"stroke\": \"blue\", \"x1\": 479.2929292929293, \"y2\": 283.96900894604534}, {}, null);\n",
       "    add_element(null, \"line\", {\"y1\": 283.96900894604534, \"x2\": 489.3939393939394, \"stroke\": \"blue\", \"x1\": 484.3434343434343, \"y2\": 279.90316193192604}, {}, null);\n",
       "    add_element(null, \"line\", {\"y1\": 279.90316193192604, \"x2\": 494.44444444444446, \"stroke\": \"blue\", \"x1\": 489.3939393939394, \"y2\": 276.02649396235154}, {}, null);\n",
       "    add_element(null, \"line\", {\"y1\": 276.02649396235154, \"x2\": 499.49494949494954, \"stroke\": \"blue\", \"x1\": 494.44444444444446, \"y2\": 272.32218041478205}, {}, null);\n",
       "    add_element(null, \"line\", {\"y1\": 272.32218041478205, \"x2\": 504.54545454545456, \"stroke\": \"blue\", \"x1\": 499.49494949494954, \"y2\": 268.77554587988243}, {}, null);\n",
       "    add_element(null, \"line\", {\"y1\": 268.77554587988243, \"x2\": 509.5959595959596, \"stroke\": \"blue\", \"x1\": 504.54545454545456, \"y2\": 265.3737130031945}, {}, null);\n",
       "    add_element(null, \"line\", {\"y1\": 265.3737130031945, \"x2\": 514.6464646464647, \"stroke\": \"blue\", \"x1\": 509.5959595959596, \"y2\": 262.10532024042107}, {}, null);\n",
       "    add_element(null, \"line\", {\"y1\": 262.10532024042107, \"x2\": 519.6969696969697, \"stroke\": \"blue\", \"x1\": 514.6464646464647, \"y2\": 258.96029290851715}, {}, null);\n",
       "    add_element(null, \"line\", {\"y1\": 258.96029290851715, \"x2\": 524.7474747474748, \"stroke\": \"blue\", \"x1\": 519.6969696969697, \"y2\": 255.92965589427757}, {}, null);\n",
       "    add_element(null, \"line\", {\"y1\": 255.92965589427757, \"x2\": 529.7979797979798, \"stroke\": \"blue\", \"x1\": 524.7474747474748, \"y2\": 253.0053792433384}, {}, null);\n",
       "    add_element(null, \"line\", {\"y1\": 253.0053792433384, \"x2\": 534.8484848484849, \"stroke\": \"blue\", \"x1\": 529.7979797979798, \"y2\": 250.18024993703162}, {}, null);\n",
       "    add_element(null, \"line\", {\"y1\": 250.18024993703162, \"x2\": 539.8989898989898, \"stroke\": \"blue\", \"x1\": 534.8484848484849, \"y2\": 247.44776470178238}, {}, null);\n",
       "    add_element(null, \"line\", {\"y1\": 247.44776470178238, \"x2\": 544.9494949494949, \"stroke\": \"blue\", \"x1\": 539.8989898989898, \"y2\": 244.80203984223402}, {}, null);\n",
       "    add_element(null, \"line\", {\"y1\": 244.80203984223402, \"x2\": 550.0, \"stroke\": \"blue\", \"x1\": 544.9494949494949, \"y2\": 242.2377349533379}, {}, null);\n",
       "    add_element(null, \"line\", {\"y1\": 633.3333333333333, \"x2\": 55.05050505050505, \"stroke\": \"red\", \"x1\": 50.0, \"y2\": 628.2828282828283}, {}, null);\n",
       "    add_element(null, \"line\", {\"y1\": 628.2828282828283, \"x2\": 60.101010101010104, \"stroke\": \"red\", \"x1\": 55.05050505050505, \"y2\": 623.2323232323232}, {}, null);\n",
       "    add_element(null, \"line\", {\"y1\": 623.2323232323232, \"x2\": 65.15151515151516, \"stroke\": \"red\", \"x1\": 60.101010101010104, \"y2\": 618.1818181818182}, {}, null);\n",
       "    add_element(null, \"line\", {\"y1\": 618.1818181818182, \"x2\": 70.20202020202021, \"stroke\": \"red\", \"x1\": 65.15151515151516, \"y2\": 613.1313131313132}, {}, null);\n",
       "    add_element(null, \"line\", {\"y1\": 613.1313131313132, \"x2\": 75.25252525252529, \"stroke\": \"red\", \"x1\": 70.20202020202021, \"y2\": 608.0808080808081}, {}, null);\n",
       "    add_element(null, \"line\", {\"y1\": 608.0808080808081, \"x2\": 80.30303030303031, \"stroke\": \"red\", \"x1\": 75.25252525252529, \"y2\": 603.030303030303}, {}, null);\n",
       "    add_element(null, \"line\", {\"y1\": 603.030303030303, \"x2\": 85.35353535353536, \"stroke\": \"red\", \"x1\": 80.30303030303031, \"y2\": 597.9797979797979}, {}, null);\n",
       "    add_element(null, \"line\", {\"y1\": 597.9797979797979, \"x2\": 90.40404040404042, \"stroke\": \"red\", \"x1\": 85.35353535353536, \"y2\": 592.9292929292928}, {}, null);\n",
       "    add_element(null, \"line\", {\"y1\": 592.9292929292928, \"x2\": 95.45454545454547, \"stroke\": \"red\", \"x1\": 90.40404040404042, \"y2\": 587.8787878787879}, {}, null);\n",
       "    add_element(null, \"line\", {\"y1\": 587.8787878787879, \"x2\": 100.50505050505052, \"stroke\": \"red\", \"x1\": 95.45454545454547, \"y2\": 582.8282828282828}, {}, null);\n",
       "    add_element(null, \"line\", {\"y1\": 582.8282828282828, \"x2\": 105.5555555555556, \"stroke\": \"red\", \"x1\": 100.50505050505052, \"y2\": 577.7777777777777}, {}, null);\n",
       "    add_element(null, \"line\", {\"y1\": 577.7777777777777, \"x2\": 110.60606060606062, \"stroke\": \"red\", \"x1\": 105.5555555555556, \"y2\": 572.7272727272727}, {}, null);\n",
       "    add_element(null, \"line\", {\"y1\": 572.7272727272727, \"x2\": 115.65656565656568, \"stroke\": \"red\", \"x1\": 110.60606060606062, \"y2\": 567.6767676767677}, {}, null);\n",
       "    add_element(null, \"line\", {\"y1\": 567.6767676767677, \"x2\": 120.70707070707073, \"stroke\": \"red\", \"x1\": 115.65656565656568, \"y2\": 562.6262626262626}, {}, null);\n",
       "    add_element(null, \"line\", {\"y1\": 562.6262626262626, \"x2\": 125.75757575757578, \"stroke\": \"red\", \"x1\": 120.70707070707073, \"y2\": 557.5757575757575}, {}, null);\n",
       "    add_element(null, \"line\", {\"y1\": 557.5757575757575, \"x2\": 130.80808080808083, \"stroke\": \"red\", \"x1\": 125.75757575757578, \"y2\": 552.5252525252525}, {}, null);\n",
       "    add_element(null, \"line\", {\"y1\": 552.5252525252525, \"x2\": 135.85858585858585, \"stroke\": \"red\", \"x1\": 130.80808080808083, \"y2\": 547.4747474747475}, {}, null);\n",
       "    add_element(null, \"line\", {\"y1\": 547.4747474747475, \"x2\": 140.9090909090909, \"stroke\": \"red\", \"x1\": 135.85858585858585, \"y2\": 542.4242424242424}, {}, null);\n",
       "    add_element(null, \"line\", {\"y1\": 542.4242424242424, \"x2\": 145.959595959596, \"stroke\": \"red\", \"x1\": 140.9090909090909, \"y2\": 537.3737373737374}, {}, null);\n",
       "    add_element(null, \"line\", {\"y1\": 537.3737373737374, \"x2\": 151.010101010101, \"stroke\": \"red\", \"x1\": 145.959595959596, \"y2\": 532.3232323232323}, {}, null);\n",
       "    add_element(null, \"line\", {\"y1\": 532.3232323232323, \"x2\": 156.06060606060606, \"stroke\": \"red\", \"x1\": 151.010101010101, \"y2\": 527.2727272727273}, {}, null);\n",
       "    add_element(null, \"line\", {\"y1\": 527.2727272727273, \"x2\": 161.11111111111114, \"stroke\": \"red\", \"x1\": 156.06060606060606, \"y2\": 522.2222222222222}, {}, null);\n",
       "    add_element(null, \"line\", {\"y1\": 522.2222222222222, \"x2\": 166.16161616161617, \"stroke\": \"red\", \"x1\": 161.11111111111114, \"y2\": 517.1717171717171}, {}, null);\n",
       "    add_element(null, \"line\", {\"y1\": 517.1717171717171, \"x2\": 171.21212121212122, \"stroke\": \"red\", \"x1\": 166.16161616161617, \"y2\": 512.1212121212121}, {}, null);\n",
       "    add_element(null, \"line\", {\"y1\": 512.1212121212121, \"x2\": 176.26262626262627, \"stroke\": \"red\", \"x1\": 171.21212121212122, \"y2\": 507.07070707070704}, {}, null);\n",
       "    add_element(null, \"line\", {\"y1\": 507.07070707070704, \"x2\": 181.3131313131313, \"stroke\": \"red\", \"x1\": 176.26262626262627, \"y2\": 502.020202020202}, {}, null);\n",
       "    add_element(null, \"line\", {\"y1\": 502.020202020202, \"x2\": 186.36363636363637, \"stroke\": \"red\", \"x1\": 181.3131313131313, \"y2\": 496.96969696969694}, {}, null);\n",
       "    add_element(null, \"line\", {\"y1\": 496.96969696969694, \"x2\": 191.41414141414143, \"stroke\": \"red\", \"x1\": 186.36363636363637, \"y2\": 491.9191919191919}, {}, null);\n",
       "    add_element(null, \"line\", {\"y1\": 491.9191919191919, \"x2\": 196.46464646464648, \"stroke\": \"red\", \"x1\": 191.41414141414143, \"y2\": 486.86868686868684}, {}, null);\n",
       "    add_element(null, \"line\", {\"y1\": 486.86868686868684, \"x2\": 201.51515151515153, \"stroke\": \"red\", \"x1\": 196.46464646464648, \"y2\": 481.81818181818176}, {}, null);\n",
       "    add_element(null, \"line\", {\"y1\": 481.81818181818176, \"x2\": 206.56565656565658, \"stroke\": \"red\", \"x1\": 201.51515151515153, \"y2\": 476.7676767676768}, {}, null);\n",
       "    add_element(null, \"line\", {\"y1\": 476.7676767676768, \"x2\": 211.6161616161616, \"stroke\": \"red\", \"x1\": 206.56565656565658, \"y2\": 471.7171717171717}, {}, null);\n",
       "    add_element(null, \"line\", {\"y1\": 471.7171717171717, \"x2\": 216.66666666666669, \"stroke\": \"red\", \"x1\": 211.6161616161616, \"y2\": 466.66666666666663}, {}, null);\n",
       "    add_element(null, \"line\", {\"y1\": 466.66666666666663, \"x2\": 221.7171717171717, \"stroke\": \"red\", \"x1\": 216.66666666666669, \"y2\": 461.6161616161616}, {}, null);\n",
       "    add_element(null, \"line\", {\"y1\": 461.6161616161616, \"x2\": 226.76767676767676, \"stroke\": \"red\", \"x1\": 221.7171717171717, \"y2\": 456.5656565656566}, {}, null);\n",
       "    add_element(null, \"line\", {\"y1\": 456.5656565656566, \"x2\": 231.8181818181818, \"stroke\": \"red\", \"x1\": 226.76767676767676, \"y2\": 451.5151515151515}, {}, null);\n",
       "    add_element(null, \"line\", {\"y1\": 451.5151515151515, \"x2\": 236.8686868686869, \"stroke\": \"red\", \"x1\": 231.8181818181818, \"y2\": 446.4646464646464}, {}, null);\n",
       "    add_element(null, \"line\", {\"y1\": 446.4646464646464, \"x2\": 241.91919191919195, \"stroke\": \"red\", \"x1\": 236.8686868686869, \"y2\": 441.4141414141414}, {}, null);\n",
       "    add_element(null, \"line\", {\"y1\": 441.4141414141414, \"x2\": 246.969696969697, \"stroke\": \"red\", \"x1\": 241.91919191919195, \"y2\": 436.3636363636364}, {}, null);\n",
       "    add_element(null, \"line\", {\"y1\": 436.3636363636364, \"x2\": 252.02020202020202, \"stroke\": \"red\", \"x1\": 246.969696969697, \"y2\": 431.3131313131313}, {}, null);\n",
       "    add_element(null, \"line\", {\"y1\": 431.3131313131313, \"x2\": 257.07070707070704, \"stroke\": \"red\", \"x1\": 252.02020202020202, \"y2\": 426.26262626262627}, {}, null);\n",
       "    add_element(null, \"line\", {\"y1\": 426.26262626262627, \"x2\": 262.1212121212121, \"stroke\": \"red\", \"x1\": 257.07070707070704, \"y2\": 421.2121212121212}, {}, null);\n",
       "    add_element(null, \"line\", {\"y1\": 421.2121212121212, \"x2\": 267.17171717171715, \"stroke\": \"red\", \"x1\": 262.1212121212121, \"y2\": 416.16161616161617}, {}, null);\n",
       "    add_element(null, \"line\", {\"y1\": 416.16161616161617, \"x2\": 272.22222222222223, \"stroke\": \"red\", \"x1\": 267.17171717171715, \"y2\": 411.1111111111111}, {}, null);\n",
       "    add_element(null, \"line\", {\"y1\": 411.1111111111111, \"x2\": 277.2727272727273, \"stroke\": \"red\", \"x1\": 272.22222222222223, \"y2\": 406.060606060606}, {}, null);\n",
       "    add_element(null, \"line\", {\"y1\": 406.060606060606, \"x2\": 282.32323232323233, \"stroke\": \"red\", \"x1\": 277.2727272727273, \"y2\": 401.010101010101}, {}, null);\n",
       "    add_element(null, \"line\", {\"y1\": 401.010101010101, \"x2\": 287.3737373737374, \"stroke\": \"red\", \"x1\": 282.32323232323233, \"y2\": 395.95959595959596}, {}, null);\n",
       "    add_element(null, \"line\", {\"y1\": 395.95959595959596, \"x2\": 292.42424242424244, \"stroke\": \"red\", \"x1\": 287.3737373737374, \"y2\": 390.9090909090909}, {}, null);\n",
       "    add_element(null, \"line\", {\"y1\": 390.9090909090909, \"x2\": 297.47474747474746, \"stroke\": \"red\", \"x1\": 292.42424242424244, \"y2\": 385.85858585858585}, {}, null);\n",
       "    add_element(null, \"line\", {\"y1\": 385.85858585858585, \"x2\": 302.52525252525254, \"stroke\": \"red\", \"x1\": 297.47474747474746, \"y2\": 380.80808080808083}, {}, null);\n",
       "    add_element(null, \"line\", {\"y1\": 380.80808080808083, \"x2\": 307.57575757575756, \"stroke\": \"red\", \"x1\": 302.52525252525254, \"y2\": 375.75757575757575}, {}, null);\n",
       "    add_element(null, \"line\", {\"y1\": 375.75757575757575, \"x2\": 312.6262626262626, \"stroke\": \"red\", \"x1\": 307.57575757575756, \"y2\": 370.7070707070707}, {}, null);\n",
       "    add_element(null, \"line\", {\"y1\": 370.7070707070707, \"x2\": 317.67676767676767, \"stroke\": \"red\", \"x1\": 312.6262626262626, \"y2\": 365.65656565656565}, {}, null);\n",
       "    add_element(null, \"line\", {\"y1\": 365.65656565656565, \"x2\": 322.72727272727275, \"stroke\": \"red\", \"x1\": 317.67676767676767, \"y2\": 360.60606060606057}, {}, null);\n",
       "    add_element(null, \"line\", {\"y1\": 360.60606060606057, \"x2\": 327.77777777777777, \"stroke\": \"red\", \"x1\": 322.72727272727275, \"y2\": 355.55555555555554}, {}, null);\n",
       "    add_element(null, \"line\", {\"y1\": 355.55555555555554, \"x2\": 332.82828282828285, \"stroke\": \"red\", \"x1\": 327.77777777777777, \"y2\": 350.50505050505046}, {}, null);\n",
       "    add_element(null, \"line\", {\"y1\": 350.50505050505046, \"x2\": 337.8787878787879, \"stroke\": \"red\", \"x1\": 332.82828282828285, \"y2\": 345.45454545454544}, {}, null);\n",
       "    add_element(null, \"line\", {\"y1\": 345.45454545454544, \"x2\": 342.92929292929296, \"stroke\": \"red\", \"x1\": 337.8787878787879, \"y2\": 340.4040404040404}, {}, null);\n",
       "    add_element(null, \"line\", {\"y1\": 340.4040404040404, \"x2\": 347.979797979798, \"stroke\": \"red\", \"x1\": 342.92929292929296, \"y2\": 335.35353535353534}, {}, null);\n",
       "    add_element(null, \"line\", {\"y1\": 335.35353535353534, \"x2\": 353.03030303030306, \"stroke\": \"red\", \"x1\": 347.979797979798, \"y2\": 330.30303030303025}, {}, null);\n",
       "    add_element(null, \"line\", {\"y1\": 330.30303030303025, \"x2\": 358.0808080808081, \"stroke\": \"red\", \"x1\": 353.03030303030306, \"y2\": 325.25252525252523}, {}, null);\n",
       "    add_element(null, \"line\", {\"y1\": 325.25252525252523, \"x2\": 363.13131313131316, \"stroke\": \"red\", \"x1\": 358.0808080808081, \"y2\": 320.2020202020202}, {}, null);\n",
       "    add_element(null, \"line\", {\"y1\": 320.2020202020202, \"x2\": 368.1818181818182, \"stroke\": \"red\", \"x1\": 363.13131313131316, \"y2\": 315.1515151515151}, {}, null);\n",
       "    add_element(null, \"line\", {\"y1\": 315.1515151515151, \"x2\": 373.2323232323232, \"stroke\": \"red\", \"x1\": 368.1818181818182, \"y2\": 310.1010101010101}, {}, null);\n",
       "    add_element(null, \"line\", {\"y1\": 310.1010101010101, \"x2\": 378.2828282828283, \"stroke\": \"red\", \"x1\": 373.2323232323232, \"y2\": 305.050505050505}, {}, null);\n",
       "    add_element(null, \"line\", {\"y1\": 305.050505050505, \"x2\": 383.3333333333333, \"stroke\": \"red\", \"x1\": 378.2828282828283, \"y2\": 300.0}, {}, null);\n",
       "    add_element(null, \"line\", {\"y1\": 300.0, \"x2\": 388.3838383838384, \"stroke\": \"red\", \"x1\": 383.3333333333333, \"y2\": 294.949494949495}, {}, null);\n",
       "    add_element(null, \"line\", {\"y1\": 294.949494949495, \"x2\": 393.4343434343434, \"stroke\": \"red\", \"x1\": 388.3838383838384, \"y2\": 289.8989898989899}, {}, null);\n",
       "    add_element(null, \"line\", {\"y1\": 289.8989898989899, \"x2\": 398.4848484848485, \"stroke\": \"red\", \"x1\": 393.4343434343434, \"y2\": 284.8484848484849}, {}, null);\n",
       "    add_element(null, \"line\", {\"y1\": 284.8484848484849, \"x2\": 403.5353535353535, \"stroke\": \"red\", \"x1\": 398.4848484848485, \"y2\": 279.7979797979798}, {}, null);\n",
       "    add_element(null, \"line\", {\"y1\": 279.7979797979798, \"x2\": 408.58585858585855, \"stroke\": \"red\", \"x1\": 403.5353535353535, \"y2\": 274.74747474747477}, {}, null);\n",
       "    add_element(null, \"line\", {\"y1\": 274.74747474747477, \"x2\": 413.6363636363636, \"stroke\": \"red\", \"x1\": 408.58585858585855, \"y2\": 269.69696969696975}, {}, null);\n",
       "    add_element(null, \"line\", {\"y1\": 269.69696969696975, \"x2\": 418.6868686868687, \"stroke\": \"red\", \"x1\": 413.6363636363636, \"y2\": 264.6464646464646}, {}, null);\n",
       "    add_element(null, \"line\", {\"y1\": 264.6464646464646, \"x2\": 423.7373737373738, \"stroke\": \"red\", \"x1\": 418.6868686868687, \"y2\": 259.5959595959596}, {}, null);\n",
       "    add_element(null, \"line\", {\"y1\": 259.5959595959596, \"x2\": 428.7878787878788, \"stroke\": \"red\", \"x1\": 423.7373737373738, \"y2\": 254.5454545454545}, {}, null);\n",
       "    add_element(null, \"line\", {\"y1\": 254.5454545454545, \"x2\": 433.83838383838383, \"stroke\": \"red\", \"x1\": 428.7878787878788, \"y2\": 249.49494949494948}, {}, null);\n",
       "    add_element(null, \"line\", {\"y1\": 249.49494949494948, \"x2\": 438.8888888888889, \"stroke\": \"red\", \"x1\": 433.83838383838383, \"y2\": 244.44444444444443}, {}, null);\n",
       "    add_element(null, \"line\", {\"y1\": 244.44444444444443, \"x2\": 443.93939393939394, \"stroke\": \"red\", \"x1\": 438.8888888888889, \"y2\": 239.39393939393938}, {}, null);\n",
       "    add_element(null, \"line\", {\"y1\": 239.39393939393938, \"x2\": 448.98989898989896, \"stroke\": \"red\", \"x1\": 443.93939393939394, \"y2\": 234.34343434343432}, {}, null);\n",
       "    add_element(null, \"line\", {\"y1\": 234.34343434343432, \"x2\": 454.04040404040404, \"stroke\": \"red\", \"x1\": 448.98989898989896, \"y2\": 229.29292929292927}, {}, null);\n",
       "    add_element(null, \"line\", {\"y1\": 229.29292929292927, \"x2\": 459.0909090909091, \"stroke\": \"red\", \"x1\": 454.04040404040404, \"y2\": 224.24242424242425}, {}, null);\n",
       "    add_element(null, \"line\", {\"y1\": 224.24242424242425, \"x2\": 464.14141414141415, \"stroke\": \"red\", \"x1\": 459.0909090909091, \"y2\": 219.1919191919192}, {}, null);\n",
       "    add_element(null, \"line\", {\"y1\": 219.1919191919192, \"x2\": 469.19191919191917, \"stroke\": \"red\", \"x1\": 464.14141414141415, \"y2\": 219.11764705882354}, {}, null);\n",
       "    add_element(null, \"line\", {\"y1\": 219.11764705882354, \"x2\": 474.24242424242425, \"stroke\": \"red\", \"x1\": 469.19191919191917, \"y2\": 223.61111111111111}, {}, null);\n",
       "    add_element(null, \"line\", {\"y1\": 223.61111111111111, \"x2\": 479.2929292929293, \"stroke\": \"red\", \"x1\": 474.24242424242425, \"y2\": 227.6315789473684}, {}, null);\n",
       "    add_element(null, \"line\", {\"y1\": 227.6315789473684, \"x2\": 484.3434343434343, \"stroke\": \"red\", \"x1\": 479.2929292929293, \"y2\": 231.25}, {}, null);\n",
       "    add_element(null, \"line\", {\"y1\": 231.25, \"x2\": 489.3939393939394, \"stroke\": \"red\", \"x1\": 484.3434343434343, \"y2\": 234.52380952380952}, {}, null);\n",
       "    add_element(null, \"line\", {\"y1\": 234.52380952380952, \"x2\": 494.44444444444446, \"stroke\": \"red\", \"x1\": 489.3939393939394, \"y2\": 237.50000000000003}, {}, null);\n",
       "    add_element(null, \"line\", {\"y1\": 237.50000000000003, \"x2\": 499.49494949494954, \"stroke\": \"red\", \"x1\": 494.44444444444446, \"y2\": 240.21739130434784}, {}, null);\n",
       "    add_element(null, \"line\", {\"y1\": 240.21739130434784, \"x2\": 504.54545454545456, \"stroke\": \"red\", \"x1\": 499.49494949494954, \"y2\": 242.70833333333337}, {}, null);\n",
       "    add_element(null, \"line\", {\"y1\": 242.70833333333337, \"x2\": 509.5959595959596, \"stroke\": \"red\", \"x1\": 504.54545454545456, \"y2\": 245.00000000000003}, {}, null);\n",
       "    add_element(null, \"line\", {\"y1\": 245.00000000000003, \"x2\": 514.6464646464647, \"stroke\": \"red\", \"x1\": 509.5959595959596, \"y2\": 247.11538461538464}, {}, null);\n",
       "    add_element(null, \"line\", {\"y1\": 247.11538461538464, \"x2\": 519.6969696969697, \"stroke\": \"red\", \"x1\": 514.6464646464647, \"y2\": 249.07407407407408}, {}, null);\n",
       "    add_element(null, \"line\", {\"y1\": 249.07407407407408, \"x2\": 524.7474747474748, \"stroke\": \"red\", \"x1\": 519.6969696969697, \"y2\": 250.89285714285717}, {}, null);\n",
       "    add_element(null, \"line\", {\"y1\": 250.89285714285717, \"x2\": 529.7979797979798, \"stroke\": \"red\", \"x1\": 524.7474747474748, \"y2\": 252.58620689655174}, {}, null);\n",
       "    add_element(null, \"line\", {\"y1\": 252.58620689655174, \"x2\": 534.8484848484849, \"stroke\": \"red\", \"x1\": 529.7979797979798, \"y2\": 254.16666666666669}, {}, null);\n",
       "    add_element(null, \"line\", {\"y1\": 254.16666666666669, \"x2\": 539.8989898989898, \"stroke\": \"red\", \"x1\": 534.8484848484849, \"y2\": 255.6451612903226}, {}, null);\n",
       "    add_element(null, \"line\", {\"y1\": 255.6451612903226, \"x2\": 544.9494949494949, \"stroke\": \"red\", \"x1\": 539.8989898989898, \"y2\": 257.03125}, {}, null);\n",
       "    add_element(null, \"line\", {\"y1\": 257.03125, \"x2\": 550.0, \"stroke\": \"red\", \"x1\": 544.9494949494949, \"y2\": 258.3333333333333}, {}, null);\n",
       "    add_element(null, \"line\", {\"y1\": 300.0, \"x2\": 133.33333333333334, \"stroke\": \"black\", \"x1\": 133.33333333333334, \"y2\": 305.0}, {}, null);\n",
       "    add_element(null, \"line\", {\"y1\": 300.0, \"x2\": 300.0, \"stroke\": \"black\", \"x1\": 300.0, \"y2\": 305.0}, {}, null);\n",
       "    add_element(null, \"line\", {\"y1\": 300.0, \"x2\": 466.66666666666663, \"stroke\": \"black\", \"x1\": 466.66666666666663, \"y2\": 305.0}, {}, null);\n",
       "    add_element(null, \"line\", {\"y1\": 300.0, \"x2\": 550.0, \"stroke\": \"black\", \"x1\": 50.0, \"y2\": 300.0}, {}, null);\n",
       "    add_element(null, \"text\", {\"y\": 310.0, \"x\": 133.33333333333334, \"transform\": \"rotate(90 133.333333333 310.0)\", \"text-anchor\": \"start\", \"fill\": \"black\"}, {}, \"-2.00\");\n",
       "    add_element(null, \"text\", {\"y\": 310.0, \"x\": 300.0, \"transform\": \"rotate(90 300.0 310.0)\", \"text-anchor\": \"start\", \"fill\": \"black\"}, {}, \"0.00\");\n",
       "    add_element(null, \"text\", {\"y\": 310.0, \"x\": 466.66666666666663, \"transform\": \"rotate(90 466.666666667 310.0)\", \"text-anchor\": \"start\", \"fill\": \"black\"}, {}, \"2.00\");\n",
       "    add_element(null, \"line\", {\"y1\": 466.66666666666663, \"x2\": 295.0, \"stroke\": \"black\", \"x1\": 300.0, \"y2\": 466.66666666666663}, {}, null);\n",
       "    add_element(null, \"line\", {\"y1\": 133.33333333333334, \"x2\": 295.0, \"stroke\": \"black\", \"x1\": 300.0, \"y2\": 133.33333333333334}, {}, null);\n",
       "    add_element(null, \"line\", {\"y1\": -200.0, \"x2\": 295.0, \"stroke\": \"black\", \"x1\": 300.0, \"y2\": -200.0}, {}, null);\n",
       "    add_element(null, \"line\", {\"y1\": 633.3333333333333, \"x2\": 300.0, \"stroke\": \"black\", \"x1\": 300.0, \"y2\": -325.0}, {}, null);\n",
       "    add_element(null, \"text\", {\"y\": 466.66666666666663, \"x\": 290.0, \"text-anchor\": \"end\", \"fill\": \"black\"}, {}, \"-2.00\");\n",
       "    add_element(null, \"text\", {\"y\": 133.33333333333334, \"x\": 290.0, \"text-anchor\": \"end\", \"fill\": \"black\"}, {}, \"2.00\");\n",
       "    add_element(null, \"text\", {\"y\": -200.0, \"x\": 290.0, \"text-anchor\": \"end\", \"fill\": \"black\"}, {}, \"6.00\");\n",
       "})();\n",
       "</script>\n"
      ],
      "text/plain": [
       "<IPython.core.display.HTML object>"
      ]
     },
     "metadata": {},
     "output_type": "display_data"
    }
   ],
   "source": [
    "from jp_svg_canvas import cartesian_svg\n",
    "m = -3\n",
    "M = 3\n",
    "D = cartesian_svg.sdoodle(m, m, M, M, html_width=600, html_height=600)\n",
    "xs = np.linspace(-M,M,100)\n",
    "ys = f(xs)\n",
    "fps = fp(xs)\n",
    "D.sequence(None, xs, ys, \"blue\")\n",
    "D.sequence(None, xs, fps, \"red\")\n",
    "D.axes()\n",
    "D.embed()"
   ]
  },
  {
   "cell_type": "code",
   "execution_count": 153,
   "metadata": {
    "collapsed": true
   },
   "outputs": [],
   "source": [
    "def show_points(*points_arrays):\n",
    "    colors = [\"red\", \"blue\", \"green\", \"purple\", \"cyan\", \"magenta\"]\n",
    "    all_points = np.vstack(points_arrays)\n",
    "    xs = all_points[:,0]\n",
    "    ys = all_points[:,1]\n",
    "    mx = xs.min()\n",
    "    Mx = xs.max()\n",
    "    my = ys.min()\n",
    "    My = ys.max()\n",
    "    radius = max(Mx-mx, My-my) * 0.03\n",
    "    D = cartesian_svg.sdoodle(mx,my, Mx-mx, My-my, html_width=400)\n",
    "    D.axes((Mx+mx)*0.5, (My+my)*0.5)\n",
    "    for (i, points) in enumerate(points_arrays):\n",
    "        color = colors[i % len(colors)]\n",
    "        for (x,y) in points:\n",
    "            D.circle(None, x, y, radius, color)\n",
    "    D.embed()\n",
    "    return D"
   ]
  },
  {
   "cell_type": "code",
   "execution_count": 155,
   "metadata": {
    "collapsed": false
   },
   "outputs": [
    {
     "name": "stdout",
     "output_type": "stream",
     "text": [
      "0.0\n",
      "[ 0.         -1.42857143]\n"
     ]
    },
    {
     "data": {
      "text/html": [
       "\n",
       "<div id=\"jp_svg_canvas_static_883506\"/>\n",
       "\n",
       "<script>\n",
       "(function () {\n",
       "    var $div = $(\"#jp_svg_canvas_static_883506\");\n",
       "    $div.width(400.0);\n",
       "    $div.height(400.0);\n",
       "    var svg_elt = function(kind) {\n",
       "            return document.createElementNS('http://www.w3.org/2000/svg', kind);\n",
       "        };\n",
       "    var svg = svg_elt(\"svg\");\n",
       "    var $svg = $(svg);\n",
       "    $div.append(svg);\n",
       "    $div.named_elements = {};\n",
       "    svg.setAttribute(\"preserveAspectRatio\", \"none\");\n",
       "    svg.setAttribute(\"viewBox\", \"0 0 400.0 400.0\");\n",
       "    var add_element = function (name, tagname, attribute_dict, style_dict, text) {\n",
       "        var element = svg_elt(tagname);\n",
       "        var $element = $(element);\n",
       "        update_element($element, attribute_dict, style_dict, text);\n",
       "        $div.named_elements[name] = $element;\n",
       "        $svg.append($element);\n",
       "    };\n",
       "    var change_element = function (name, attribute_dict, style_dict, text) {\n",
       "        var $element = $div.named_elements[name];\n",
       "        if ($element) {\n",
       "            update_element($element, attribute_dict, style_dict, text);\n",
       "        }\n",
       "    };\n",
       "    var update_element = function ($element, atts, style, text) {\n",
       "        var element = $element[0];\n",
       "        if (atts) {\n",
       "            for (var att in atts) {\n",
       "                element.setAttribute(att, atts[att]);\n",
       "            }\n",
       "        }\n",
       "        if (style) {\n",
       "            for (var styling in style) {\n",
       "                element.style[styling] = style[styling];\n",
       "            }\n",
       "        }\n",
       "        if (text) {\n",
       "            $element.empty();\n",
       "            var node = document.createTextNode(text);\n",
       "            $element.append(node);\n",
       "        }\n",
       "    };\n",
       "    var empty = function () {\n",
       "        $div.named_elements = {};\n",
       "        $svg.empty();\n",
       "    };\n",
       "    var delete_names = function (names) {\n",
       "        for (var i=0; i<names.length; i++) {\n",
       "            var name = names[i];\n",
       "            var $element = $div.named_elements[name];\n",
       "            if ($element) {\n",
       "                $element.remove();\n",
       "                delete that.named_elements[name];\n",
       "            }\n",
       "        }\n",
       "    };\n",
       "    var fit = function() {\n",
       "            // fit viewport to bounding box.\n",
       "            var bbox = svg.getBBox();\n",
       "            var vbox = \"\" + bbox.x + \" \" + bbox.y + \" \" + bbox.width + \" \" + bbox.height;\n",
       "            svg.setAttribute(\"viewBox\", vbox);\n",
       "        };\n",
       "    add_element(null, \"line\", {\"y1\": 250.0, \"x2\": 90.0, \"stroke\": \"black\", \"x1\": 90.0, \"y2\": 255.0}, {}, null);\n",
       "    add_element(null, \"line\", {\"y1\": 250.0, \"x2\": 170.00000000000003, \"stroke\": \"black\", \"x1\": 170.00000000000003, \"y2\": 255.0}, {}, null);\n",
       "    add_element(null, \"line\", {\"y1\": 250.0, \"x2\": 250.0, \"stroke\": \"black\", \"x1\": 250.0, \"y2\": 255.0}, {}, null);\n",
       "    add_element(null, \"line\", {\"y1\": 250.0, \"x2\": 330.0, \"stroke\": \"black\", \"x1\": 330.0, \"y2\": 255.0}, {}, null);\n",
       "    add_element(null, \"line\", {\"y1\": 250.0, \"x2\": 350.0, \"stroke\": \"black\", \"x1\": 50.0, \"y2\": 250.0}, {}, null);\n",
       "    add_element(null, \"text\", {\"y\": 260.0, \"x\": 90.0, \"transform\": \"rotate(90 90.0 260.0)\", \"text-anchor\": \"start\", \"fill\": \"black\"}, {}, \"-0.60\");\n",
       "    add_element(null, \"text\", {\"y\": 260.0, \"x\": 170.00000000000003, \"transform\": \"rotate(90 170.0 260.0)\", \"text-anchor\": \"start\", \"fill\": \"black\"}, {}, \"0.20\");\n",
       "    add_element(null, \"text\", {\"y\": 260.0, \"x\": 250.0, \"transform\": \"rotate(90 250.0 260.0)\", \"text-anchor\": \"start\", \"fill\": \"black\"}, {}, \"1.00\");\n",
       "    add_element(null, \"text\", {\"y\": 260.0, \"x\": 330.0, \"transform\": \"rotate(90 330.0 260.0)\", \"text-anchor\": \"start\", \"fill\": \"black\"}, {}, \"1.80\");\n",
       "    add_element(null, \"line\", {\"y1\": 310.0, \"x2\": 145.0, \"stroke\": \"black\", \"x1\": 150.0, \"y2\": 310.0}, {}, null);\n",
       "    add_element(null, \"line\", {\"y1\": 229.99999999999997, \"x2\": 145.0, \"stroke\": \"black\", \"x1\": 150.0, \"y2\": 229.99999999999997}, {}, null);\n",
       "    add_element(null, \"line\", {\"y1\": 150.0, \"x2\": 145.0, \"stroke\": \"black\", \"x1\": 150.0, \"y2\": 150.0}, {}, null);\n",
       "    add_element(null, \"line\", {\"y1\": 69.99999999999997, \"x2\": 145.0, \"stroke\": \"black\", \"x1\": 150.0, \"y2\": 69.99999999999997}, {}, null);\n",
       "    add_element(null, \"line\", {\"y1\": 350.0, \"x2\": 150.0, \"stroke\": \"black\", \"x1\": 150.0, \"y2\": 50.0}, {}, null);\n",
       "    add_element(null, \"text\", {\"y\": 310.0, \"x\": 140.0, \"text-anchor\": \"end\", \"fill\": \"black\"}, {}, \"-0.60\");\n",
       "    add_element(null, \"text\", {\"y\": 229.99999999999997, \"x\": 140.0, \"text-anchor\": \"end\", \"fill\": \"black\"}, {}, \"0.20\");\n",
       "    add_element(null, \"text\", {\"y\": 150.0, \"x\": 140.0, \"text-anchor\": \"end\", \"fill\": \"black\"}, {}, \"1.00\");\n",
       "    add_element(null, \"text\", {\"y\": 69.99999999999997, \"x\": 140.0, \"text-anchor\": \"end\", \"fill\": \"black\"}, {}, \"1.80\");\n",
       "    add_element(null, \"circle\", {\"cy\": 250.0, \"cx\": 250.0, \"r\": 6.0, \"fill\": \"red\"}, {}, null);\n",
       "    add_element(null, \"circle\", {\"cy\": 150.0, \"cx\": 250.0, \"r\": 6.0, \"fill\": \"red\"}, {}, null);\n",
       "    add_element(null, \"circle\", {\"cy\": 350.0, \"cx\": 250.0, \"r\": 6.0, \"fill\": \"red\"}, {}, null);\n",
       "    add_element(null, \"circle\", {\"cy\": 150.0, \"cx\": 50.0, \"r\": 6.0, \"fill\": \"red\"}, {}, null);\n",
       "    add_element(null, \"circle\", {\"cy\": 350.0, \"cx\": 50.0, \"r\": 6.0, \"fill\": \"red\"}, {}, null);\n",
       "})();\n",
       "</script>\n"
      ],
      "text/plain": [
       "<IPython.core.display.HTML object>"
      ]
     },
     "metadata": {},
     "output_type": "display_data"
    }
   ],
   "source": [
    "points = np.array([[1,0], [1,1],[1,-1],[-1,1],[-1,-1.0],])\n",
    "a,b,c = -1.0, 0.7, 1.0\n",
    "xp = 0.0\n",
    "yp = -c/b\n",
    "p = np.array([xp, yp])\n",
    "print a * xp + b * yp + c\n",
    "print p\n",
    "D = show_points(points)"
   ]
  },
  {
   "cell_type": "code",
   "execution_count": 152,
   "metadata": {
    "collapsed": false
   },
   "outputs": [
    {
     "data": {
      "application/javascript": [
       "\n",
       "// This is the javascript side to match js_proxy.py.\n",
       "// See js_proxy.py for an explanation of the command transfer\n",
       "// protocol\n",
       "\n",
       "// imitating ipywidgets/docs/source/examples/Custom Widget - Hello World.ipynb\n",
       "\n",
       "//require([\"widgets/js/widget\", \"widgets/js/manager\", \"underscore\", \"jquery\"\n",
       "//], function(widget, manager, _, $) {\n",
       "\n",
       "require.undef(\"JSProxy\");\n",
       "\n",
       "define(\"JSProxy\", [\"jupyter-js-widgets\"], function(widgets) {\n",
       "\n",
       "    var JSProxyView = widgets.DOMWidgetView.extend({\n",
       "\n",
       "        render: function() {\n",
       "            var that = this;\n",
       "            that.on(\"displayed\", function() {\n",
       "                that.update();\n",
       "            });\n",
       "            // Wrap $el as a proper jQuery object\n",
       "            that.$$el = $(that.$el);\n",
       "            // \"new\" keyword emulation\n",
       "            // http://stackoverflow.com/questions/17342497/dynamically-control-arguments-while-creating-objects-in-javascript\n",
       "            that.$$el.New = function(klass, args) {\n",
       "                var obj = Object.create(klass.prototype);\n",
       "                return klass.apply(obj, args) || obj;\n",
       "            };\n",
       "\n",
       "            // fix key bindings for wayward element.\n",
       "            // XXXX This is a bit of a hack that may not be needed in future\n",
       "            // Jupyter releases.\n",
       "            that.$$el.Fix = function(element) {\n",
       "                debugger;\n",
       "                that.model.widget_manager.keyboard_manager.register_events(element);\n",
       "            };\n",
       "        },\n",
       "\n",
       "        update: function(options) {\n",
       "            var that = this;\n",
       "            var commands = that.model.get(\"commands\");\n",
       "            if (commands.length >= 2) {\n",
       "                var command_counter = commands[0];\n",
       "                var command_list = commands[1];\n",
       "                var level = commands[2];\n",
       "                level = that.check_level(level);\n",
       "                var results = [];\n",
       "                _.each(command_list, function(command,i) {\n",
       "                    var result = that.execute_command(command);\n",
       "                    results[i] = that.json_safe(result, level);\n",
       "                });\n",
       "                that.model.set(\"commands\", []);\n",
       "                that.model.set(\"results\", [command_counter, results])\n",
       "                that.touch();\n",
       "            }\n",
       "        },\n",
       "\n",
       "        execute_command: function(command) {\n",
       "            var that = this;\n",
       "            var result = command;\n",
       "            if ($.isArray(command)) {\n",
       "                var indicator = command[0];\n",
       "                var remainder = command.slice();\n",
       "                remainder.shift();\n",
       "                if (indicator == \"element\") {\n",
       "                    // Make sure the element is wrapped as a proper JQuery(UI) object\n",
       "                    if (!that.$$el) {\n",
       "                        that.$$el = $(that.$el);\n",
       "                    }\n",
       "                    result = that.$$el;\n",
       "                } else if (indicator == \"window\") {\n",
       "                    result = window;\n",
       "                } else if (indicator == \"method\") {\n",
       "                    var target_desc = remainder.shift();\n",
       "                    var target = that.execute_command(target_desc);\n",
       "                    var name = remainder.shift();\n",
       "                    var args = remainder.map(that.execute_command, that);\n",
       "                    var method = target[name];\n",
       "                    if (method) {\n",
       "                        result = method.apply(target, args);\n",
       "                    } else {\n",
       "                        result = \"In \" + target + \" no such method \" + name;\n",
       "                    }\n",
       "                } else if (indicator == \"function\") {\n",
       "                    var function_desc = remainder.shift();\n",
       "                    var function_value = that.execute_command(function_desc);\n",
       "                    var args = remainder.map(that.execute_command, that);\n",
       "                    // Use \"that\" as the \"this\" value for function values?\n",
       "                    result = function_value.apply(that, args);\n",
       "                } else if (indicator == \"id\") {\n",
       "                    result = remainder[0];\n",
       "                } else if (indicator == \"list\") {\n",
       "                    result = remainder.map(that.execute_command, that);\n",
       "                } else if (indicator == \"dict\") {\n",
       "                    result = {}\n",
       "                    var desc = remainder[0];\n",
       "                    for (var key in desc) {\n",
       "                        var key_desc = desc[key];\n",
       "                        var val = that.execute_command(key_desc);\n",
       "                        result[key] = val;\n",
       "                    }\n",
       "                } else if (indicator == \"callback\") {\n",
       "                    var identifier = remainder.shift();\n",
       "                    var data = remainder.shift();\n",
       "                    var level = remainder.shift();\n",
       "                    // sanity check\n",
       "                    level = that.check_level(level);\n",
       "                    result = that.callback_factory(identifier, data, level);\n",
       "                } else if (indicator == \"get\") {\n",
       "                    var target_desc = remainder.shift();\n",
       "                    var target = that.execute_command(target_desc);\n",
       "                    var name = remainder.shift();\n",
       "                    try {\n",
       "                        result = target[name];\n",
       "                    } catch(err) {\n",
       "                        result = \"failed to get \"+name+\" from \"+target+\" :: \"+err;\n",
       "                    }\n",
       "                } else if (indicator == \"set\") {\n",
       "                    var target_desc = remainder.shift();\n",
       "                    var target = that.execute_command(target_desc);\n",
       "                    var name = remainder.shift();\n",
       "                    var value_desc = remainder.shift()\n",
       "                    var value = that.execute_command(value_desc);\n",
       "                    target[name] = value;\n",
       "                    result = target;\n",
       "                } else if (indicator == \"null\") {\n",
       "                    target_desc = remainder.shift();\n",
       "                    that.execute_command(target_desc);\n",
       "                    result = null;\n",
       "                } else {\n",
       "                    result = \"Unknown indicator \" + indicator;\n",
       "                }\n",
       "            }\n",
       "            return result;\n",
       "        },\n",
       "\n",
       "        check_level: function(level) {\n",
       "            if ((typeof level) != \"number\" || (level < 0)) {\n",
       "                level = 0;\n",
       "            } else if (level > 5) {\n",
       "                level = 5;\n",
       "            }\n",
       "            return level;\n",
       "        },\n",
       "\n",
       "        callback_factory: function(identifier, data, level) {\n",
       "            var that = this;\n",
       "            // Counter makes sure change is noticed even if other arguments don't change.\n",
       "            var counter = 0;\n",
       "            var handler = function () {\n",
       "                counter += 1;\n",
       "                var payload = that.json_safe([identifier, data, arguments, counter], level + 1);\n",
       "                that.model.set(\"callback_results\", payload);\n",
       "                that.touch();\n",
       "            };\n",
       "            return handler;\n",
       "        },\n",
       "\n",
       "        json_safe: function(val, depth) {\n",
       "            // maybe expand later as need arises\n",
       "            var that = this;\n",
       "            var ty = (typeof val);\n",
       "            if ((ty == \"number\") || (ty == \"string\") || (ty == \"boolean\")) {\n",
       "                return val;\n",
       "            }\n",
       "            if (!val) {\n",
       "                // translate all other falsies to None\n",
       "                return null;\n",
       "            }\n",
       "            if (((typeof depth) == \"number\") && (depth > 0)) {\n",
       "                if ($.isArray(val)) {\n",
       "                    var result = [];\n",
       "                    _.each(val, function(elt, i) {\n",
       "                        var r = that.json_safe(elt, depth-1);\n",
       "                        if (r != null) {\n",
       "                            result[i] = r;\n",
       "                        }\n",
       "                    });\n",
       "                    return result;\n",
       "                } else {\n",
       "                    var result = {};\n",
       "                    for (var key in val) {\n",
       "                        var jv = that.json_safe(val[key], depth-1);\n",
       "                        if (jv != null) {\n",
       "                            result[key] = jv;\n",
       "                        }\n",
       "                    }\n",
       "                    return result;\n",
       "                }\n",
       "            }\n",
       "            return null;\n",
       "        }\n",
       "\n",
       "    });\n",
       "\n",
       "    //manager.WidgetManager.register_widget_view('JSProxyView', JSProxyView);\n",
       "    return {\n",
       "        JSProxyView: JSProxyView\n",
       "    }\n",
       "});\n"
      ],
      "text/plain": [
       "<IPython.core.display.Javascript object>"
      ]
     },
     "metadata": {},
     "output_type": "display_data"
    }
   ],
   "source": [
    "from jp_gene_viz import examine\n",
    "examine.examine(D)"
   ]
  },
  {
   "cell_type": "code",
   "execution_count": 141,
   "metadata": {
    "collapsed": false
   },
   "outputs": [
    {
     "data": {
      "text/html": [
       "\n",
       "<div id=\"jp_svg_canvas_static_883499\"/>\n",
       "\n",
       "<script>\n",
       "(function () {\n",
       "    var $div = $(\"#jp_svg_canvas_static_883499\");\n",
       "    $div.width(400.0);\n",
       "    $div.height(542.857142857);\n",
       "    var svg_elt = function(kind) {\n",
       "            return document.createElementNS('http://www.w3.org/2000/svg', kind);\n",
       "        };\n",
       "    var svg = svg_elt(\"svg\");\n",
       "    var $svg = $(svg);\n",
       "    $div.append(svg);\n",
       "    $div.named_elements = {};\n",
       "    svg.setAttribute(\"preserveAspectRatio\", \"none\");\n",
       "    svg.setAttribute(\"viewBox\", \"0 0 400.0 542.857142857\");\n",
       "    var add_element = function (name, tagname, attribute_dict, style_dict, text) {\n",
       "        var element = svg_elt(tagname);\n",
       "        var $element = $(element);\n",
       "        update_element($element, attribute_dict, style_dict, text);\n",
       "        $div.named_elements[name] = $element;\n",
       "        $svg.append($element);\n",
       "    };\n",
       "    var change_element = function (name, attribute_dict, style_dict, text) {\n",
       "        var $element = $div.named_elements[name];\n",
       "        if ($element) {\n",
       "            update_element($element, attribute_dict, style_dict, text);\n",
       "        }\n",
       "    };\n",
       "    var update_element = function ($element, atts, style, text) {\n",
       "        var element = $element[0];\n",
       "        if (atts) {\n",
       "            for (var att in atts) {\n",
       "                element.setAttribute(att, atts[att]);\n",
       "            }\n",
       "        }\n",
       "        if (style) {\n",
       "            for (var styling in style) {\n",
       "                element.style[styling] = style[styling];\n",
       "            }\n",
       "        }\n",
       "        if (text) {\n",
       "            $element.empty();\n",
       "            var node = document.createTextNode(text);\n",
       "            $element.append(node);\n",
       "        }\n",
       "    };\n",
       "    var empty = function () {\n",
       "        $div.named_elements = {};\n",
       "        $svg.empty();\n",
       "    };\n",
       "    var delete_names = function (names) {\n",
       "        for (var i=0; i<names.length; i++) {\n",
       "            var name = names[i];\n",
       "            var $element = $div.named_elements[name];\n",
       "            if ($element) {\n",
       "                $element.remove();\n",
       "                delete that.named_elements[name];\n",
       "            }\n",
       "        }\n",
       "    };\n",
       "    var fit = function() {\n",
       "            // fit viewport to bounding box.\n",
       "            var bbox = svg.getBBox();\n",
       "            var vbox = \"\" + bbox.x + \" \" + bbox.y + \" \" + bbox.width + \" \" + bbox.height;\n",
       "            svg.setAttribute(\"viewBox\", vbox);\n",
       "        };\n",
       "    add_element(null, \"line\", {\"y1\": 321.42857142857144, \"x2\": 90.0, \"stroke\": \"black\", \"x1\": 90.0, \"y2\": 326.42857142857144}, {}, null);\n",
       "    add_element(null, \"line\", {\"y1\": 321.42857142857144, \"x2\": 170.00000000000003, \"stroke\": \"black\", \"x1\": 170.00000000000003, \"y2\": 326.42857142857144}, {}, null);\n",
       "    add_element(null, \"line\", {\"y1\": 321.42857142857144, \"x2\": 250.0, \"stroke\": \"black\", \"x1\": 250.0, \"y2\": 326.42857142857144}, {}, null);\n",
       "    add_element(null, \"line\", {\"y1\": 321.42857142857144, \"x2\": 330.0, \"stroke\": \"black\", \"x1\": 330.0, \"y2\": 326.42857142857144}, {}, null);\n",
       "    add_element(null, \"line\", {\"y1\": 321.42857142857144, \"x2\": 350.0, \"stroke\": \"black\", \"x1\": 50.0, \"y2\": 321.42857142857144}, {}, null);\n",
       "    add_element(null, \"text\", {\"y\": 331.42857142857144, \"x\": 90.0, \"transform\": \"rotate(90 90.0 331.428571429)\", \"text-anchor\": \"start\", \"fill\": \"black\"}, {}, \"-0.60\");\n",
       "    add_element(null, \"text\", {\"y\": 331.42857142857144, \"x\": 170.00000000000003, \"transform\": \"rotate(90 170.0 331.428571429)\", \"text-anchor\": \"start\", \"fill\": \"black\"}, {}, \"0.20\");\n",
       "    add_element(null, \"text\", {\"y\": 331.42857142857144, \"x\": 250.0, \"transform\": \"rotate(90 250.0 331.428571429)\", \"text-anchor\": \"start\", \"fill\": \"black\"}, {}, \"1.00\");\n",
       "    add_element(null, \"text\", {\"y\": 331.42857142857144, \"x\": 330.0, \"transform\": \"rotate(90 330.0 331.428571429)\", \"text-anchor\": \"start\", \"fill\": \"black\"}, {}, \"1.80\");\n",
       "    add_element(null, \"line\", {\"y1\": 442.8571428571429, \"x2\": 145.0, \"stroke\": \"black\", \"x1\": 150.0, \"y2\": 442.8571428571429}, {}, null);\n",
       "    add_element(null, \"line\", {\"y1\": 342.8571428571429, \"x2\": 145.0, \"stroke\": \"black\", \"x1\": 150.0, \"y2\": 342.8571428571429}, {}, null);\n",
       "    add_element(null, \"line\", {\"y1\": 242.8571428571429, \"x2\": 145.0, \"stroke\": \"black\", \"x1\": 150.0, \"y2\": 242.8571428571429}, {}, null);\n",
       "    add_element(null, \"line\", {\"y1\": 142.8571428571429, \"x2\": 145.0, \"stroke\": \"black\", \"x1\": 150.0, \"y2\": 142.8571428571429}, {}, null);\n",
       "    add_element(null, \"line\", {\"y1\": 492.8571428571429, \"x2\": 150.0, \"stroke\": \"black\", \"x1\": 150.0, \"y2\": 50.0}, {}, null);\n",
       "    add_element(null, \"text\", {\"y\": 442.8571428571429, \"x\": 140.0, \"text-anchor\": \"end\", \"fill\": \"black\"}, {}, \"-0.50\");\n",
       "    add_element(null, \"text\", {\"y\": 342.8571428571429, \"x\": 140.0, \"text-anchor\": \"end\", \"fill\": \"black\"}, {}, \"0.50\");\n",
       "    add_element(null, \"text\", {\"y\": 242.8571428571429, \"x\": 140.0, \"text-anchor\": \"end\", \"fill\": \"black\"}, {}, \"1.50\");\n",
       "    add_element(null, \"text\", {\"y\": 142.8571428571429, \"x\": 140.0, \"text-anchor\": \"end\", \"fill\": \"black\"}, {}, \"2.50\");\n",
       "    add_element(null, \"circle\", {\"cy\": 392.8571428571429, \"cx\": 250.0, \"r\": 10.285714285714285, \"fill\": \"red\"}, {}, null);\n",
       "    add_element(null, \"circle\", {\"cy\": 292.8571428571429, \"cx\": 250.0, \"r\": 10.285714285714285, \"fill\": \"red\"}, {}, null);\n",
       "    add_element(null, \"circle\", {\"cy\": 492.8571428571429, \"cx\": 250.0, \"r\": 10.285714285714285, \"fill\": \"red\"}, {}, null);\n",
       "    add_element(null, \"circle\", {\"cy\": 292.8571428571429, \"cx\": 50.0, \"r\": 10.285714285714285, \"fill\": \"red\"}, {}, null);\n",
       "    add_element(null, \"circle\", {\"cy\": 492.8571428571429, \"cx\": 50.0, \"r\": 10.285714285714285, \"fill\": \"red\"}, {}, null);\n",
       "    add_element(null, \"circle\", {\"cy\": 250.00000000000003, \"cx\": 250.0, \"r\": 10.285714285714285, \"fill\": \"blue\"}, {}, null);\n",
       "    add_element(null, \"circle\", {\"cy\": 150.0, \"cx\": 250.0, \"r\": 10.285714285714285, \"fill\": \"blue\"}, {}, null);\n",
       "    add_element(null, \"circle\", {\"cy\": 350.0, \"cx\": 250.0, \"r\": 10.285714285714285, \"fill\": \"blue\"}, {}, null);\n",
       "    add_element(null, \"circle\", {\"cy\": 150.0, \"cx\": 50.0, \"r\": 10.285714285714285, \"fill\": \"blue\"}, {}, null);\n",
       "    add_element(null, \"circle\", {\"cy\": 350.0, \"cx\": 50.0, \"r\": 10.285714285714285, \"fill\": \"blue\"}, {}, null);\n",
       "})();\n",
       "</script>\n"
      ],
      "text/plain": [
       "<IPython.core.display.HTML object>"
      ]
     },
     "metadata": {},
     "output_type": "display_data"
    }
   ],
   "source": [
    "tr_points = points - p\n",
    "show_points(points, tr_points)"
   ]
  },
  {
   "cell_type": "code",
   "execution_count": 142,
   "metadata": {
    "collapsed": false
   },
   "outputs": [
    {
     "name": "stdout",
     "output_type": "stream",
     "text": [
      "0.0 should be 0\n",
      "1.0 should be 1\n"
     ]
    },
    {
     "data": {
      "image/png": "[encoded data removed]",
      "text/latex": [
       "$$0.0$$"
      ],
      "text/plain": [
       "0.0"
      ]
     },
     "execution_count": 142,
     "metadata": {},
     "output_type": "execute_result"
    }
   ],
   "source": [
    "line_direction = np.array([-b, a])\n",
    "(xtest, ytest) = p + 12.3 * line_direction\n",
    "print a * xtest + b * ytest + c, \"should be 0\"\n",
    "orth = np.array([a, b])\n",
    "from numpy.linalg import norm\n",
    "n = orth/norm(orth)\n",
    "print norm(n), \"should be 1\"\n",
    "n.dot(line_direction)"
   ]
  },
  {
   "cell_type": "code",
   "execution_count": 143,
   "metadata": {
    "collapsed": false
   },
   "outputs": [
    {
     "data": {
      "text/plain": [
       "array([ 0.        ,  0.57346234, -0.57346234,  2.21192619,  1.0650015 ])"
      ]
     },
     "execution_count": 143,
     "metadata": {},
     "output_type": "execute_result"
    }
   ],
   "source": [
    "proj = tr_points.dot(n)\n",
    "proj"
   ]
  },
  {
   "cell_type": "code",
   "execution_count": 144,
   "metadata": {
    "collapsed": false
   },
   "outputs": [
    {
     "data": {
      "text/html": [
       "\n",
       "<div id=\"jp_svg_canvas_static_883500\"/>\n",
       "\n",
       "<script>\n",
       "(function () {\n",
       "    var $div = $(\"#jp_svg_canvas_static_883500\");\n",
       "    $div.width(400.0);\n",
       "    $div.height(387.310802405);\n",
       "    var svg_elt = function(kind) {\n",
       "            return document.createElementNS('http://www.w3.org/2000/svg', kind);\n",
       "        };\n",
       "    var svg = svg_elt(\"svg\");\n",
       "    var $svg = $(svg);\n",
       "    $div.append(svg);\n",
       "    $div.named_elements = {};\n",
       "    svg.setAttribute(\"preserveAspectRatio\", \"none\");\n",
       "    svg.setAttribute(\"viewBox\", \"0 0 400.0 387.310802405\");\n",
       "    var add_element = function (name, tagname, attribute_dict, style_dict, text) {\n",
       "        var element = svg_elt(tagname);\n",
       "        var $element = $(element);\n",
       "        update_element($element, attribute_dict, style_dict, text);\n",
       "        $div.named_elements[name] = $element;\n",
       "        $svg.append($element);\n",
       "    };\n",
       "    var change_element = function (name, attribute_dict, style_dict, text) {\n",
       "        var $element = $div.named_elements[name];\n",
       "        if ($element) {\n",
       "            update_element($element, attribute_dict, style_dict, text);\n",
       "        }\n",
       "    };\n",
       "    var update_element = function ($element, atts, style, text) {\n",
       "        var element = $element[0];\n",
       "        if (atts) {\n",
       "            for (var att in atts) {\n",
       "                element.setAttribute(att, atts[att]);\n",
       "            }\n",
       "        }\n",
       "        if (style) {\n",
       "            for (var styling in style) {\n",
       "                element.style[styling] = style[styling];\n",
       "            }\n",
       "        }\n",
       "        if (text) {\n",
       "            $element.empty();\n",
       "            var node = document.createTextNode(text);\n",
       "            $element.append(node);\n",
       "        }\n",
       "    };\n",
       "    var empty = function () {\n",
       "        $div.named_elements = {};\n",
       "        $svg.empty();\n",
       "    };\n",
       "    var delete_names = function (names) {\n",
       "        for (var i=0; i<names.length; i++) {\n",
       "            var name = names[i];\n",
       "            var $element = $div.named_elements[name];\n",
       "            if ($element) {\n",
       "                $element.remove();\n",
       "                delete that.named_elements[name];\n",
       "            }\n",
       "        }\n",
       "    };\n",
       "    var fit = function() {\n",
       "            // fit viewport to bounding box.\n",
       "            var bbox = svg.getBBox();\n",
       "            var vbox = \"\" + bbox.x + \" \" + bbox.y + \" \" + bbox.width + \" \" + bbox.height;\n",
       "            svg.setAttribute(\"viewBox\", vbox);\n",
       "        };\n",
       "    add_element(null, \"line\", {\"y1\": 226.09371760315162, \"x2\": 86.46589259796808, \"stroke\": \"black\", \"x1\": 86.46589259796808, \"y2\": 231.09371760315162}, {}, null);\n",
       "    add_element(null, \"line\", {\"y1\": 226.09371760315162, \"x2\": 151.3425253991292, \"stroke\": \"black\", \"x1\": 151.3425253991292, \"y2\": 231.09371760315162}, {}, null);\n",
       "    add_element(null, \"line\", {\"y1\": 226.09371760315162, \"x2\": 216.21915820029028, \"stroke\": \"black\", \"x1\": 216.21915820029028, \"y2\": 231.09371760315162}, {}, null);\n",
       "    add_element(null, \"line\", {\"y1\": 226.09371760315162, \"x2\": 281.0957910014514, \"stroke\": \"black\", \"x1\": 281.0957910014514, \"y2\": 231.09371760315162}, {}, null);\n",
       "    add_element(null, \"line\", {\"y1\": 226.09371760315162, \"x2\": 345.9724238026125, \"stroke\": \"black\", \"x1\": 345.9724238026125, \"y2\": 231.09371760315162}, {}, null);\n",
       "    add_element(null, \"line\", {\"y1\": 226.09371760315162, \"x2\": 350.0, \"stroke\": \"black\", \"x1\": 50.0, \"y2\": 226.09371760315162}, {}, null);\n",
       "    add_element(null, \"text\", {\"y\": 236.09371760315162, \"x\": 86.46589259796808, \"transform\": \"rotate(90 86.465892598 236.093717603)\", \"text-anchor\": \"start\", \"fill\": \"black\"}, {}, \"-1.25\");\n",
       "    add_element(null, \"text\", {\"y\": 236.09371760315162, \"x\": 151.3425253991292, \"transform\": \"rotate(90 151.342525399 236.093717603)\", \"text-anchor\": \"start\", \"fill\": \"black\"}, {}, \"-0.25\");\n",
       "    add_element(null, \"text\", {\"y\": 236.09371760315162, \"x\": 216.21915820029028, \"transform\": \"rotate(90 216.2191582 236.093717603)\", \"text-anchor\": \"start\", \"fill\": \"black\"}, {}, \"0.75\");\n",
       "    add_element(null, \"text\", {\"y\": 236.09371760315162, \"x\": 281.0957910014514, \"transform\": \"rotate(90 281.095791001 236.093717603)\", \"text-anchor\": \"start\", \"fill\": \"black\"}, {}, \"1.75\");\n",
       "    add_element(null, \"text\", {\"y\": 236.09371760315162, \"x\": 345.9724238026125, \"transform\": \"rotate(90 345.972423803 236.093717603)\", \"text-anchor\": \"start\", \"fill\": \"black\"}, {}, \"2.75\");\n",
       "    add_element(null, \"line\", {\"y1\": 304.87248600456155, \"x2\": 136.21915820029028, \"stroke\": \"black\", \"x1\": 141.21915820029028, \"y2\": 304.87248600456155}, {}, null);\n",
       "    add_element(null, \"line\", {\"y1\": 239.99585320340043, \"x2\": 136.21915820029028, \"stroke\": \"black\", \"x1\": 141.21915820029028, \"y2\": 239.99585320340043}, {}, null);\n",
       "    add_element(null, \"line\", {\"y1\": 175.11922040223934, \"x2\": 136.21915820029028, \"stroke\": \"black\", \"x1\": 141.21915820029028, \"y2\": 175.11922040223934}, {}, null);\n",
       "    add_element(null, \"line\", {\"y1\": 110.24258760107821, \"x2\": 136.21915820029028, \"stroke\": \"black\", \"x1\": 141.21915820029028, \"y2\": 110.24258760107821}, {}, null);\n",
       "    add_element(null, \"line\", {\"y1\": 337.3108024051421, \"x2\": 141.21915820029028, \"stroke\": \"black\", \"x1\": 141.21915820029028, \"y2\": 50.00000000000003}, {}, null);\n",
       "    add_element(null, \"text\", {\"y\": 304.87248600456155, \"x\": 131.21915820029028, \"text-anchor\": \"end\", \"fill\": \"black\"}, {}, \"-0.50\");\n",
       "    add_element(null, \"text\", {\"y\": 239.99585320340043, \"x\": 131.21915820029028, \"text-anchor\": \"end\", \"fill\": \"black\"}, {}, \"0.50\");\n",
       "    add_element(null, \"text\", {\"y\": 175.11922040223934, \"x\": 131.21915820029028, \"text-anchor\": \"end\", \"fill\": \"black\"}, {}, \"1.50\");\n",
       "    add_element(null, \"text\", {\"y\": 110.24258760107821, \"x\": 131.21915820029028, \"text-anchor\": \"end\", \"fill\": \"black\"}, {}, \"2.50\");\n",
       "    add_element(null, \"circle\", {\"cy\": 272.434169603981, \"cx\": 232.43831640058056, \"r\": 6.673025088119428, \"fill\": \"red\"}, {}, null);\n",
       "    add_element(null, \"circle\", {\"cy\": 207.55753680281987, \"cx\": 232.43831640058056, \"r\": 6.673025088119428, \"fill\": \"red\"}, {}, null);\n",
       "    add_element(null, \"circle\", {\"cy\": 337.3108024051421, \"cx\": 232.43831640058056, \"r\": 6.673025088119428, \"fill\": \"red\"}, {}, null);\n",
       "    add_element(null, \"circle\", {\"cy\": 207.55753680281987, \"cx\": 102.68505079825836, \"r\": 6.673025088119428, \"fill\": \"red\"}, {}, null);\n",
       "    add_element(null, \"circle\", {\"cy\": 337.3108024051421, \"cx\": 102.68505079825836, \"r\": 6.673025088119428, \"fill\": \"red\"}, {}, null);\n",
       "    add_element(null, \"circle\", {\"cy\": 179.75326560232224, \"cx\": 232.43831640058056, \"r\": 6.673025088119428, \"fill\": \"blue\"}, {}, null);\n",
       "    add_element(null, \"circle\", {\"cy\": 114.87663280116115, \"cx\": 232.43831640058056, \"r\": 6.673025088119428, \"fill\": \"blue\"}, {}, null);\n",
       "    add_element(null, \"circle\", {\"cy\": 244.62989840348337, \"cx\": 232.43831640058056, \"r\": 6.673025088119428, \"fill\": \"blue\"}, {}, null);\n",
       "    add_element(null, \"circle\", {\"cy\": 114.87663280116115, \"cx\": 102.68505079825836, \"r\": 6.673025088119428, \"fill\": \"blue\"}, {}, null);\n",
       "    add_element(null, \"circle\", {\"cy\": 244.62989840348337, \"cx\": 102.68505079825836, \"r\": 6.673025088119428, \"fill\": \"blue\"}, {}, null);\n",
       "    add_element(null, \"circle\", {\"cy\": 272.434169603981, \"cx\": 167.56168359941947, \"r\": 6.673025088119428, \"fill\": \"green\"}, {}, null);\n",
       "    add_element(null, \"circle\", {\"cy\": 251.09890109890117, \"cx\": 137.08272859216257, \"r\": 6.673025088119428, \"fill\": \"green\"}, {}, null);\n",
       "    add_element(null, \"circle\", {\"cy\": 293.76943810906084, \"cx\": 198.04063860667637, \"r\": 6.673025088119428, \"fill\": \"green\"}, {}, null);\n",
       "    add_element(null, \"circle\", {\"cy\": 190.14099108438737, \"cx\": 50.0, \"r\": 6.673025088119428, \"fill\": \"green\"}, {}, null);\n",
       "    add_element(null, \"circle\", {\"cy\": 232.81152809454704, \"cx\": 110.9579100145138, \"r\": 6.673025088119428, \"fill\": \"green\"}, {}, null);\n",
       "})();\n",
       "</script>\n"
      ],
      "text/plain": [
       "<IPython.core.display.HTML object>"
      ]
     },
     "metadata": {},
     "output_type": "display_data"
    }
   ],
   "source": [
    "component = proj.reshape((len(points),1)) * n.reshape((1,2))\n",
    "show_points(points, tr_points, component)"
   ]
  },
  {
   "cell_type": "code",
   "execution_count": null,
   "metadata": {
    "collapsed": false
   },
   "outputs": [],
   "source": []
  },
  {
   "cell_type": "code",
   "execution_count": 145,
   "metadata": {
    "collapsed": false
   },
   "outputs": [
    {
     "data": {
      "text/plain": [
       "array([  0.00000000e+00,   0.00000000e+00,   5.55111512e-17,\n",
       "         0.00000000e+00,   0.00000000e+00])"
      ]
     },
     "execution_count": 145,
     "metadata": {},
     "output_type": "execute_result"
    }
   ],
   "source": [
    "component.dot(line_direction)"
   ]
  },
  {
   "cell_type": "code",
   "execution_count": 146,
   "metadata": {
    "collapsed": false
   },
   "outputs": [
    {
     "data": {
      "text/plain": [
       "array([  0.00000000e+00,  -2.22044605e-16,   0.00000000e+00,\n",
       "         1.11022302e-16,   1.11022302e-16])"
      ]
     },
     "execution_count": 146,
     "metadata": {},
     "output_type": "execute_result"
    }
   ],
   "source": [
    "on_line_tr = tr_points - component\n",
    "on_line = on_line_tr + p\n",
    "xs = on_line[:,0]\n",
    "ys = on_line[:,1]\n",
    "a * xs + b * ys + c"
   ]
  },
  {
   "cell_type": "code",
   "execution_count": 148,
   "metadata": {
    "collapsed": false
   },
   "outputs": [
    {
     "data": {
      "text/html": [
       "\n",
       "<div id=\"jp_svg_canvas_static_883502\"/>\n",
       "\n",
       "<script>\n",
       "(function () {\n",
       "    var $div = $(\"#jp_svg_canvas_static_883502\");\n",
       "    $div.width(400.0);\n",
       "    $div.height(606.410610666);\n",
       "    var svg_elt = function(kind) {\n",
       "            return document.createElementNS('http://www.w3.org/2000/svg', kind);\n",
       "        };\n",
       "    var svg = svg_elt(\"svg\");\n",
       "    var $svg = $(svg);\n",
       "    $div.append(svg);\n",
       "    $div.named_elements = {};\n",
       "    svg.setAttribute(\"preserveAspectRatio\", \"none\");\n",
       "    svg.setAttribute(\"viewBox\", \"0 0 400.0 606.410610666\");\n",
       "    var add_element = function (name, tagname, attribute_dict, style_dict, text) {\n",
       "        var element = svg_elt(tagname);\n",
       "        var $element = $(element);\n",
       "        update_element($element, attribute_dict, style_dict, text);\n",
       "        $div.named_elements[name] = $element;\n",
       "        $svg.append($element);\n",
       "    };\n",
       "    var change_element = function (name, attribute_dict, style_dict, text) {\n",
       "        var $element = $div.named_elements[name];\n",
       "        if ($element) {\n",
       "            update_element($element, attribute_dict, style_dict, text);\n",
       "        }\n",
       "    };\n",
       "    var update_element = function ($element, atts, style, text) {\n",
       "        var element = $element[0];\n",
       "        if (atts) {\n",
       "            for (var att in atts) {\n",
       "                element.setAttribute(att, atts[att]);\n",
       "            }\n",
       "        }\n",
       "        if (style) {\n",
       "            for (var styling in style) {\n",
       "                element.style[styling] = style[styling];\n",
       "            }\n",
       "        }\n",
       "        if (text) {\n",
       "            $element.empty();\n",
       "            var node = document.createTextNode(text);\n",
       "            $element.append(node);\n",
       "        }\n",
       "    };\n",
       "    var empty = function () {\n",
       "        $div.named_elements = {};\n",
       "        $svg.empty();\n",
       "    };\n",
       "    var delete_names = function (names) {\n",
       "        for (var i=0; i<names.length; i++) {\n",
       "            var name = names[i];\n",
       "            var $element = $div.named_elements[name];\n",
       "            if ($element) {\n",
       "                $element.remove();\n",
       "                delete that.named_elements[name];\n",
       "            }\n",
       "        }\n",
       "    };\n",
       "    var fit = function() {\n",
       "            // fit viewport to bounding box.\n",
       "            var bbox = svg.getBBox();\n",
       "            var vbox = \"\" + bbox.x + \" \" + bbox.y + \" \" + bbox.width + \" \" + bbox.height;\n",
       "            svg.setAttribute(\"viewBox\", vbox);\n",
       "        };\n",
       "    add_element(null, \"line\", {\"y1\": 408.19287095882845, \"x2\": 84.58413926499034, \"stroke\": \"black\", \"x1\": 84.58413926499034, \"y2\": 413.19287095882845}, {}, null);\n",
       "    add_element(null, \"line\", {\"y1\": 408.19287095882845, \"x2\": 153.75241779497102, \"stroke\": \"black\", \"x1\": 153.75241779497102, \"y2\": 413.19287095882845}, {}, null);\n",
       "    add_element(null, \"line\", {\"y1\": 408.19287095882845, \"x2\": 222.92069632495168, \"stroke\": \"black\", \"x1\": 222.92069632495168, \"y2\": 413.19287095882845}, {}, null);\n",
       "    add_element(null, \"line\", {\"y1\": 408.19287095882845, \"x2\": 292.08897485493236, \"stroke\": \"black\", \"x1\": 292.08897485493236, \"y2\": 413.19287095882845}, {}, null);\n",
       "    add_element(null, \"line\", {\"y1\": 408.19287095882845, \"x2\": 350.0, \"stroke\": \"black\", \"x1\": 50.000000000000014, \"y2\": 408.19287095882845}, {}, null);\n",
       "    add_element(null, \"text\", {\"y\": 418.19287095882845, \"x\": 84.58413926499034, \"transform\": \"rotate(90 84.584139265 418.192870959)\", \"text-anchor\": \"start\", \"fill\": \"black\"}, {}, \"-0.60\");\n",
       "    add_element(null, \"text\", {\"y\": 418.19287095882845, \"x\": 153.75241779497102, \"transform\": \"rotate(90 153.752417795 418.192870959)\", \"text-anchor\": \"start\", \"fill\": \"black\"}, {}, \"0.20\");\n",
       "    add_element(null, \"text\", {\"y\": 418.19287095882845, \"x\": 222.92069632495168, \"transform\": \"rotate(90 222.920696325 418.192870959)\", \"text-anchor\": \"start\", \"fill\": \"black\"}, {}, \"1.00\");\n",
       "    add_element(null, \"text\", {\"y\": 418.19287095882845, \"x\": 292.08897485493236, \"transform\": \"rotate(90 292.088974855 418.192870959)\", \"text-anchor\": \"start\", \"fill\": \"black\"}, {}, \"1.80\");\n",
       "    add_element(null, \"line\", {\"y1\": 432.8958275766787, \"x2\": 151.7698259187621, \"stroke\": \"black\", \"x1\": 156.7698259187621, \"y2\": 432.8958275766787}, {}, null);\n",
       "    add_element(null, \"line\", {\"y1\": 259.975131251727, \"x2\": 151.7698259187621, \"stroke\": \"black\", \"x1\": 156.7698259187621, \"y2\": 259.975131251727}, {}, null);\n",
       "    add_element(null, \"line\", {\"y1\": 87.0544349267754, \"x2\": 151.7698259187621, \"stroke\": \"black\", \"x1\": 156.7698259187621, \"y2\": 87.0544349267754}, {}, null);\n",
       "    add_element(null, \"line\", {\"y1\": 556.4106106659299, \"x2\": 156.7698259187621, \"stroke\": \"black\", \"x1\": 156.76982591876211, \"y2\": 50.0}, {}, null);\n",
       "    add_element(null, \"text\", {\"y\": 432.8958275766787, \"x\": 146.7698259187621, \"text-anchor\": \"end\", \"fill\": \"black\"}, {}, \"-1.00\");\n",
       "    add_element(null, \"text\", {\"y\": 259.975131251727, \"x\": 146.7698259187621, \"text-anchor\": \"end\", \"fill\": \"black\"}, {}, \"1.00\");\n",
       "    add_element(null, \"text\", {\"y\": 87.0544349267754, \"x\": 146.7698259187621, \"text-anchor\": \"end\", \"fill\": \"black\"}, {}, \"3.00\");\n",
       "    add_element(null, \"circle\", {\"cy\": 383.4899143409782, \"cx\": 196.98259187620891, \"r\": 8.893064382426084, \"fill\": \"red\"}, {}, null);\n",
       "    add_element(null, \"circle\", {\"cy\": 402.7033250437506, \"cx\": 183.53320438426823, \"r\": 8.893064382426084, \"fill\": \"red\"}, {}, null);\n",
       "    add_element(null, \"circle\", {\"cy\": 421.91673574652305, \"cx\": 170.08381689232755, \"r\": 8.893064382426084, \"fill\": \"red\"}, {}, null);\n",
       "    add_element(null, \"circle\", {\"cy\": 441.13014644929547, \"cx\": 156.63442940038686, \"r\": 8.893064382426084, \"fill\": \"red\"}, {}, null);\n",
       "    add_element(null, \"circle\", {\"cy\": 460.34355715206783, \"cx\": 143.18504190844618, \"r\": 8.893064382426084, \"fill\": \"red\"}, {}, null);\n",
       "    add_element(null, \"circle\", {\"cy\": 479.55696785484025, \"cx\": 129.7356544165055, \"r\": 8.893064382426084, \"fill\": \"red\"}, {}, null);\n",
       "    add_element(null, \"circle\", {\"cy\": 498.7703785576126, \"cx\": 116.28626692456481, \"r\": 8.893064382426084, \"fill\": \"red\"}, {}, null);\n",
       "    add_element(null, \"circle\", {\"cy\": 517.983789260385, \"cx\": 102.83687943262414, \"r\": 8.893064382426084, \"fill\": \"red\"}, {}, null);\n",
       "    add_element(null, \"circle\", {\"cy\": 537.1971999631575, \"cx\": 89.38749194068346, \"r\": 8.893064382426084, \"fill\": \"red\"}, {}, null);\n",
       "    add_element(null, \"circle\", {\"cy\": 556.4106106659299, \"cx\": 75.93810444874276, \"r\": 8.893064382426084, \"fill\": \"red\"}, {}, null);\n",
       "    add_element(null, \"circle\", {\"cy\": 346.43547941420286, \"cx\": 222.92069632495168, \"r\": 8.893064382426084, \"fill\": \"blue\"}, {}, null);\n",
       "    add_element(null, \"circle\", {\"cy\": 288.4084001105278, \"cx\": 263.5396518375242, \"r\": 8.893064382426084, \"fill\": \"blue\"}, {}, null);\n",
       "    add_element(null, \"circle\", {\"cy\": 404.4625587178779, \"cx\": 182.30174081237914, \"r\": 8.893064382426084, \"fill\": \"blue\"}, {}, null);\n",
       "    add_element(null, \"circle\", {\"cy\": 369.6463111356729, \"cx\": 206.67311411992267, \"r\": 8.893064382426084, \"fill\": \"blue\"}, {}, null);\n",
       "    add_element(null, \"circle\", {\"cy\": 485.70046974302295, \"cx\": 125.43520309477758, \"r\": 8.893064382426084, \"fill\": \"blue\"}, {}, null);\n",
       "    add_element(null, \"circle\", {\"cy\": 346.43547941420286, \"cx\": 222.92069632495168, \"r\": 8.893064382426084, \"fill\": \"green\"}, {}, null);\n",
       "    add_element(null, \"circle\", {\"cy\": 259.975131251727, \"cx\": 222.92069632495168, \"r\": 8.893064382426084, \"fill\": \"green\"}, {}, null);\n",
       "    add_element(null, \"circle\", {\"cy\": 432.8958275766787, \"cx\": 222.92069632495168, \"r\": 8.893064382426084, \"fill\": \"green\"}, {}, null);\n",
       "    add_element(null, \"circle\", {\"cy\": 259.975131251727, \"cx\": 50.000000000000014, \"r\": 8.893064382426084, \"fill\": \"green\"}, {}, null);\n",
       "    add_element(null, \"circle\", {\"cy\": 432.8958275766787, \"cx\": 50.000000000000014, \"r\": 8.893064382426084, \"fill\": \"green\"}, {}, null);\n",
       "})();\n",
       "</script>\n"
      ],
      "text/plain": [
       "<IPython.core.display.HTML object>"
      ]
     },
     "metadata": {},
     "output_type": "display_data"
    }
   ],
   "source": [
    "line_samples = p.reshape((1,2)) + np.linspace(-1,1,10).reshape((10,1)) * line_direction.reshape((1,2))\n",
    "#show_points(points, tr_points, component, on_line_tr, line_samples, on_line)\n",
    "show_points(line_samples, on_line, points)\n",
    "#line_samples"
   ]
  },
  {
   "cell_type": "code",
   "execution_count": 49,
   "metadata": {
    "collapsed": false
   },
   "outputs": [
    {
     "data": {
      "image/png": "[encoded data removed]",
      "text/latex": [
       "$$\\left \\{ x : - \\frac{1}{a m - b} \\left(b m y_{p} + b x_{p} + c m\\right), \\quad y : \\frac{a \\left(m y_{p} + x_{p}\\right) + c}{a m - b}\\right \\}$$"
      ],
      "text/plain": [
       "⎧   -(b⋅m⋅y_p + b⋅x_p + c⋅m)      a⋅(m⋅y_p + x_p) + c⎫\n",
       "⎨x: ─────────────────────────, y: ───────────────────⎬\n",
       "⎩            a⋅m - b                    a⋅m - b      ⎭"
      ]
     },
     "execution_count": 49,
     "metadata": {},
     "output_type": "execute_result"
    }
   ],
   "source": [
    "s.solve([e1,e2], x, y)"
   ]
  },
  {
   "cell_type": "code",
   "execution_count": 50,
   "metadata": {
    "collapsed": true
   },
   "outputs": [],
   "source": [
    "a,b,g,m = s.symbols(\"a b g m\")"
   ]
  },
  {
   "cell_type": "code",
   "execution_count": 51,
   "metadata": {
    "collapsed": false
   },
   "outputs": [
    {
     "data": {
      "image/png": "[encoded data removed]",
      "text/latex": [
       "$$a + b = m^{2} + 1$$"
      ],
      "text/plain": [
       "         2    \n",
       "a + b = m  + 1"
      ]
     },
     "execution_count": 51,
     "metadata": {},
     "output_type": "execute_result"
    }
   ],
   "source": [
    "eq1 = s.Eq(a + b, 1 + m**2)\n",
    "eq1"
   ]
  },
  {
   "cell_type": "code",
   "execution_count": 53,
   "metadata": {
    "collapsed": false
   },
   "outputs": [
    {
     "data": {
      "image/png": "[encoded data removed]",
      "text/latex": [
       "$$a^{2} + g^{2} = 1$$"
      ],
      "text/plain": [
       " 2    2    \n",
       "a  + g  = 1"
      ]
     },
     "execution_count": 53,
     "metadata": {},
     "output_type": "execute_result"
    }
   ],
   "source": [
    "eq2 = s.Eq(a**2 + g**2, 1)\n",
    "eq2"
   ]
  },
  {
   "cell_type": "code",
   "execution_count": 55,
   "metadata": {
    "collapsed": false
   },
   "outputs": [
    {
     "data": {
      "image/png": "[encoded data removed]",
      "text/latex": [
       "$$b^{2} + g^{2} = m^{2}$$"
      ],
      "text/plain": [
       " 2    2    2\n",
       "b  + g  = m "
      ]
     },
     "execution_count": 55,
     "metadata": {},
     "output_type": "execute_result"
    }
   ],
   "source": [
    "eq3 = s.Eq(b**2 + g**2, m**2)\n",
    "eq3"
   ]
  },
  {
   "cell_type": "code",
   "execution_count": 56,
   "metadata": {
    "collapsed": false
   },
   "outputs": [
    {
     "data": {
      "image/png": "[encoded data removed]",
      "text/latex": [
       "$$\\left [ \\left ( \\frac{m^{4} + m^{2} + 2}{2 m^{2} + 2}, \\quad \\frac{m^{2} \\left(m^{2} + 3\\right)}{2 m^{2} + 2}, \\quad \\frac{m}{2 m^{2} + 2} \\sqrt{- m^{6} - 2 m^{4} - m^{2} + 4}\\right ), \\quad \\left ( \\frac{m^{4} + m^{2} + 2}{2 m^{2} + 2}, \\quad \\frac{m^{2} \\left(m^{2} + 3\\right)}{2 m^{2} + 2}, \\quad - \\frac{m}{2 m^{2} + 2} \\sqrt{- m^{6} - 2 m^{4} - m^{2} + 4}\\right )\\right ]$$"
      ],
      "text/plain": [
       "⎡⎛                               ______________________⎞  ⎛                   \n",
       "⎢⎜ 4    2       2 ⎛ 2    ⎞      ╱    6      4    2     ⎟  ⎜ 4    2       2 ⎛ 2\n",
       "⎢⎜m  + m  + 2  m ⋅⎝m  + 3⎠  m⋅╲╱  - m  - 2⋅m  - m  + 4 ⎟  ⎜m  + m  + 2  m ⋅⎝m \n",
       "⎢⎜───────────, ───────────, ───────────────────────────⎟, ⎜───────────, ──────\n",
       "⎢⎜   ⎛ 2    ⎞     ⎛ 2    ⎞             ⎛ 2    ⎞        ⎟  ⎜   ⎛ 2    ⎞     ⎛ 2\n",
       "⎣⎝ 2⋅⎝m  + 1⎠   2⋅⎝m  + 1⎠           2⋅⎝m  + 1⎠        ⎠  ⎝ 2⋅⎝m  + 1⎠   2⋅⎝m \n",
       "\n",
       "             ______________________ ⎞⎤\n",
       "    ⎞       ╱    6      4    2      ⎟⎥\n",
       " + 3⎠  -m⋅╲╱  - m  - 2⋅m  - m  + 4  ⎟⎥\n",
       "─────, ─────────────────────────────⎟⎥\n",
       "    ⎞                2              ⎟⎥\n",
       " + 1⎠             2⋅m  + 2          ⎠⎦"
      ]
     },
     "execution_count": 56,
     "metadata": {},
     "output_type": "execute_result"
    }
   ],
   "source": [
    "s.solve([eq1,eq2,eq3], a, b, g)"
   ]
  },
  {
   "cell_type": "code",
   "execution_count": null,
   "metadata": {
    "collapsed": true
   },
   "outputs": [],
   "source": []
  }
 ],
 "metadata": {
  "kernelspec": {
   "display_name": "Python 2",
   "language": "python",
   "name": "python2"
  },
  "language_info": {
   "codemirror_mode": {
    "name": "ipython",
    "version": 2
   },
   "file_extension": ".py",
   "mimetype": "text/x-python",
   "name": "python",
   "nbconvert_exporter": "python",
   "pygments_lexer": "ipython2",
   "version": "2.7.11"
  },
  "widgets": {
   "state": {
    "2a6a54a0d9d24d50a1b9798c5700d770": {
     "views": []
    },
    "2d483d52a86e41699e4bbc565f84dbfa": {
     "views": []
    },
    "4404ada0f0164341a054765564c70e43": {
     "views": [
      {
       "cell_index": 19
      }
     ]
    },
    "59b0181d477b40d2a0305094b217f54c": {
     "views": []
    },
    "80df6a29d5704919afc2191f132efb80": {
     "views": []
    },
    "ad728dfa23e841278606473cf2c8bec9": {
     "views": []
    },
    "b5d1561334994ae29c1668a71ecc2c4a": {
     "views": []
    },
    "c2f22572f4594b1299494ae72a3b0fa4": {
     "views": [
      {
       "cell_index": 14
      }
     ]
    },
    "cb60ec7a3b564645bf93911f025dcc00": {
     "views": []
    },
    "d50c56d5a80445238861bd271030f5c5": {
     "views": [
      {
       "cell_index": 26
      }
     ]
    }
   },
   "version": "1.1.1"
  }
 },
 "nbformat": 4,
 "nbformat_minor": 0
}
